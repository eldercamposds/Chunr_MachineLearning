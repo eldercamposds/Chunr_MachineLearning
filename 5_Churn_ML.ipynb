{
  "nbformat": 4,
  "nbformat_minor": 0,
  "metadata": {
    "colab": {
      "provenance": [],
      "authorship_tag": "ABX9TyMUKGVFnBaXm3oqhhawOpai",
      "include_colab_link": true
    },
    "kernelspec": {
      "name": "python3",
      "display_name": "Python 3"
    },
    "language_info": {
      "name": "python"
    }
  },
  "cells": [
    {
      "cell_type": "markdown",
      "metadata": {
        "id": "view-in-github",
        "colab_type": "text"
      },
      "source": [
        "<a href=\"https://colab.research.google.com/github/eldercamposds/Chunr_MachineLearning/blob/main/5_Churn_ML.ipynb\" target=\"_parent\"><img src=\"https://colab.research.google.com/assets/colab-badge.svg\" alt=\"Open In Colab\"/></a>"
      ]
    },
    {
      "cell_type": "code",
      "execution_count": null,
      "metadata": {
        "id": "yBGhRN8DR7Vx"
      },
      "outputs": [],
      "source": [
        "import pandas as pd\n",
        "\n",
        "uri = \"https://raw.githubusercontent.com/alura-cursos/ML_Classificacao_por_tras_dos_panos/main/Dados/Customer-Churn.csv\"\n",
        "dados = pd.read_csv(uri)"
      ]
    },
    {
      "cell_type": "code",
      "source": [
        "dados.shape"
      ],
      "metadata": {
        "id": "cXXlAhOLSTOm",
        "colab": {
          "base_uri": "https://localhost:8080/"
        },
        "outputId": "f472f3de-4d61-490a-f54d-0ded4decbeff"
      },
      "execution_count": null,
      "outputs": [
        {
          "output_type": "execute_result",
          "data": {
            "text/plain": [
              "(7043, 18)"
            ]
          },
          "metadata": {},
          "execution_count": 2
        }
      ]
    },
    {
      "cell_type": "code",
      "source": [
        "dados.head()"
      ],
      "metadata": {
        "id": "l-nXI9O0SZ-y",
        "colab": {
          "base_uri": "https://localhost:8080/",
          "height": 270
        },
        "outputId": "517c0cd1-9703-4e85-a0a4-15ef25e9f21b"
      },
      "execution_count": null,
      "outputs": [
        {
          "output_type": "execute_result",
          "data": {
            "text/plain": [
              "   Maior65Anos Conjuge Dependentes  MesesDeContrato TelefoneFixo  \\\n",
              "0            0     Sim         Nao                1          Nao   \n",
              "1            0     Nao         Nao               34          Sim   \n",
              "2            0     Nao         Nao                2          Sim   \n",
              "3            0     Nao         Nao               45          Nao   \n",
              "4            0     Nao         Nao                2          Sim   \n",
              "\n",
              "  VariasLinhasTelefonicas ServicoDeInternet SegurancaOnline BackupOnline  \\\n",
              "0    SemServicoTelefonico               DSL             Nao          Sim   \n",
              "1                     Nao               DSL             Sim          Nao   \n",
              "2                     Nao               DSL             Sim          Sim   \n",
              "3    SemServicoTelefonico               DSL             Sim          Nao   \n",
              "4                     Nao       FibraOptica             Nao          Nao   \n",
              "\n",
              "  SeguroNoDispositivo SuporteTecnico TVaCabo StreamingDeFilmes TipoDeContrato  \\\n",
              "0                 Nao            Nao     Nao               Nao    Mensalmente   \n",
              "1                 Sim            Nao     Nao               Nao          UmAno   \n",
              "2                 Nao            Nao     Nao               Nao    Mensalmente   \n",
              "3                 Sim            Sim     Nao               Nao          UmAno   \n",
              "4                 Nao            Nao     Nao               Nao    Mensalmente   \n",
              "\n",
              "  PagamentoOnline FormaDePagamento  ContaMensal Churn  \n",
              "0             Sim    ChequeDigital        29.85   Nao  \n",
              "1             Nao      ChequePapel        56.95   Nao  \n",
              "2             Sim      ChequePapel        53.85   Sim  \n",
              "3             Nao    DebitoEmConta        42.30   Nao  \n",
              "4             Sim    ChequeDigital        70.70   Sim  "
            ],
            "text/html": [
              "\n",
              "  <div id=\"df-8d5d5c78-9111-4ac1-97a0-8eafd3cf9844\">\n",
              "    <div class=\"colab-df-container\">\n",
              "      <div>\n",
              "<style scoped>\n",
              "    .dataframe tbody tr th:only-of-type {\n",
              "        vertical-align: middle;\n",
              "    }\n",
              "\n",
              "    .dataframe tbody tr th {\n",
              "        vertical-align: top;\n",
              "    }\n",
              "\n",
              "    .dataframe thead th {\n",
              "        text-align: right;\n",
              "    }\n",
              "</style>\n",
              "<table border=\"1\" class=\"dataframe\">\n",
              "  <thead>\n",
              "    <tr style=\"text-align: right;\">\n",
              "      <th></th>\n",
              "      <th>Maior65Anos</th>\n",
              "      <th>Conjuge</th>\n",
              "      <th>Dependentes</th>\n",
              "      <th>MesesDeContrato</th>\n",
              "      <th>TelefoneFixo</th>\n",
              "      <th>VariasLinhasTelefonicas</th>\n",
              "      <th>ServicoDeInternet</th>\n",
              "      <th>SegurancaOnline</th>\n",
              "      <th>BackupOnline</th>\n",
              "      <th>SeguroNoDispositivo</th>\n",
              "      <th>SuporteTecnico</th>\n",
              "      <th>TVaCabo</th>\n",
              "      <th>StreamingDeFilmes</th>\n",
              "      <th>TipoDeContrato</th>\n",
              "      <th>PagamentoOnline</th>\n",
              "      <th>FormaDePagamento</th>\n",
              "      <th>ContaMensal</th>\n",
              "      <th>Churn</th>\n",
              "    </tr>\n",
              "  </thead>\n",
              "  <tbody>\n",
              "    <tr>\n",
              "      <th>0</th>\n",
              "      <td>0</td>\n",
              "      <td>Sim</td>\n",
              "      <td>Nao</td>\n",
              "      <td>1</td>\n",
              "      <td>Nao</td>\n",
              "      <td>SemServicoTelefonico</td>\n",
              "      <td>DSL</td>\n",
              "      <td>Nao</td>\n",
              "      <td>Sim</td>\n",
              "      <td>Nao</td>\n",
              "      <td>Nao</td>\n",
              "      <td>Nao</td>\n",
              "      <td>Nao</td>\n",
              "      <td>Mensalmente</td>\n",
              "      <td>Sim</td>\n",
              "      <td>ChequeDigital</td>\n",
              "      <td>29.85</td>\n",
              "      <td>Nao</td>\n",
              "    </tr>\n",
              "    <tr>\n",
              "      <th>1</th>\n",
              "      <td>0</td>\n",
              "      <td>Nao</td>\n",
              "      <td>Nao</td>\n",
              "      <td>34</td>\n",
              "      <td>Sim</td>\n",
              "      <td>Nao</td>\n",
              "      <td>DSL</td>\n",
              "      <td>Sim</td>\n",
              "      <td>Nao</td>\n",
              "      <td>Sim</td>\n",
              "      <td>Nao</td>\n",
              "      <td>Nao</td>\n",
              "      <td>Nao</td>\n",
              "      <td>UmAno</td>\n",
              "      <td>Nao</td>\n",
              "      <td>ChequePapel</td>\n",
              "      <td>56.95</td>\n",
              "      <td>Nao</td>\n",
              "    </tr>\n",
              "    <tr>\n",
              "      <th>2</th>\n",
              "      <td>0</td>\n",
              "      <td>Nao</td>\n",
              "      <td>Nao</td>\n",
              "      <td>2</td>\n",
              "      <td>Sim</td>\n",
              "      <td>Nao</td>\n",
              "      <td>DSL</td>\n",
              "      <td>Sim</td>\n",
              "      <td>Sim</td>\n",
              "      <td>Nao</td>\n",
              "      <td>Nao</td>\n",
              "      <td>Nao</td>\n",
              "      <td>Nao</td>\n",
              "      <td>Mensalmente</td>\n",
              "      <td>Sim</td>\n",
              "      <td>ChequePapel</td>\n",
              "      <td>53.85</td>\n",
              "      <td>Sim</td>\n",
              "    </tr>\n",
              "    <tr>\n",
              "      <th>3</th>\n",
              "      <td>0</td>\n",
              "      <td>Nao</td>\n",
              "      <td>Nao</td>\n",
              "      <td>45</td>\n",
              "      <td>Nao</td>\n",
              "      <td>SemServicoTelefonico</td>\n",
              "      <td>DSL</td>\n",
              "      <td>Sim</td>\n",
              "      <td>Nao</td>\n",
              "      <td>Sim</td>\n",
              "      <td>Sim</td>\n",
              "      <td>Nao</td>\n",
              "      <td>Nao</td>\n",
              "      <td>UmAno</td>\n",
              "      <td>Nao</td>\n",
              "      <td>DebitoEmConta</td>\n",
              "      <td>42.30</td>\n",
              "      <td>Nao</td>\n",
              "    </tr>\n",
              "    <tr>\n",
              "      <th>4</th>\n",
              "      <td>0</td>\n",
              "      <td>Nao</td>\n",
              "      <td>Nao</td>\n",
              "      <td>2</td>\n",
              "      <td>Sim</td>\n",
              "      <td>Nao</td>\n",
              "      <td>FibraOptica</td>\n",
              "      <td>Nao</td>\n",
              "      <td>Nao</td>\n",
              "      <td>Nao</td>\n",
              "      <td>Nao</td>\n",
              "      <td>Nao</td>\n",
              "      <td>Nao</td>\n",
              "      <td>Mensalmente</td>\n",
              "      <td>Sim</td>\n",
              "      <td>ChequeDigital</td>\n",
              "      <td>70.70</td>\n",
              "      <td>Sim</td>\n",
              "    </tr>\n",
              "  </tbody>\n",
              "</table>\n",
              "</div>\n",
              "      <button class=\"colab-df-convert\" onclick=\"convertToInteractive('df-8d5d5c78-9111-4ac1-97a0-8eafd3cf9844')\"\n",
              "              title=\"Convert this dataframe to an interactive table.\"\n",
              "              style=\"display:none;\">\n",
              "        \n",
              "  <svg xmlns=\"http://www.w3.org/2000/svg\" height=\"24px\"viewBox=\"0 0 24 24\"\n",
              "       width=\"24px\">\n",
              "    <path d=\"M0 0h24v24H0V0z\" fill=\"none\"/>\n",
              "    <path d=\"M18.56 5.44l.94 2.06.94-2.06 2.06-.94-2.06-.94-.94-2.06-.94 2.06-2.06.94zm-11 1L8.5 8.5l.94-2.06 2.06-.94-2.06-.94L8.5 2.5l-.94 2.06-2.06.94zm10 10l.94 2.06.94-2.06 2.06-.94-2.06-.94-.94-2.06-.94 2.06-2.06.94z\"/><path d=\"M17.41 7.96l-1.37-1.37c-.4-.4-.92-.59-1.43-.59-.52 0-1.04.2-1.43.59L10.3 9.45l-7.72 7.72c-.78.78-.78 2.05 0 2.83L4 21.41c.39.39.9.59 1.41.59.51 0 1.02-.2 1.41-.59l7.78-7.78 2.81-2.81c.8-.78.8-2.07 0-2.86zM5.41 20L4 18.59l7.72-7.72 1.47 1.35L5.41 20z\"/>\n",
              "  </svg>\n",
              "      </button>\n",
              "      \n",
              "  <style>\n",
              "    .colab-df-container {\n",
              "      display:flex;\n",
              "      flex-wrap:wrap;\n",
              "      gap: 12px;\n",
              "    }\n",
              "\n",
              "    .colab-df-convert {\n",
              "      background-color: #E8F0FE;\n",
              "      border: none;\n",
              "      border-radius: 50%;\n",
              "      cursor: pointer;\n",
              "      display: none;\n",
              "      fill: #1967D2;\n",
              "      height: 32px;\n",
              "      padding: 0 0 0 0;\n",
              "      width: 32px;\n",
              "    }\n",
              "\n",
              "    .colab-df-convert:hover {\n",
              "      background-color: #E2EBFA;\n",
              "      box-shadow: 0px 1px 2px rgba(60, 64, 67, 0.3), 0px 1px 3px 1px rgba(60, 64, 67, 0.15);\n",
              "      fill: #174EA6;\n",
              "    }\n",
              "\n",
              "    [theme=dark] .colab-df-convert {\n",
              "      background-color: #3B4455;\n",
              "      fill: #D2E3FC;\n",
              "    }\n",
              "\n",
              "    [theme=dark] .colab-df-convert:hover {\n",
              "      background-color: #434B5C;\n",
              "      box-shadow: 0px 1px 3px 1px rgba(0, 0, 0, 0.15);\n",
              "      filter: drop-shadow(0px 1px 2px rgba(0, 0, 0, 0.3));\n",
              "      fill: #FFFFFF;\n",
              "    }\n",
              "  </style>\n",
              "\n",
              "      <script>\n",
              "        const buttonEl =\n",
              "          document.querySelector('#df-8d5d5c78-9111-4ac1-97a0-8eafd3cf9844 button.colab-df-convert');\n",
              "        buttonEl.style.display =\n",
              "          google.colab.kernel.accessAllowed ? 'block' : 'none';\n",
              "\n",
              "        async function convertToInteractive(key) {\n",
              "          const element = document.querySelector('#df-8d5d5c78-9111-4ac1-97a0-8eafd3cf9844');\n",
              "          const dataTable =\n",
              "            await google.colab.kernel.invokeFunction('convertToInteractive',\n",
              "                                                     [key], {});\n",
              "          if (!dataTable) return;\n",
              "\n",
              "          const docLinkHtml = 'Like what you see? Visit the ' +\n",
              "            '<a target=\"_blank\" href=https://colab.research.google.com/notebooks/data_table.ipynb>data table notebook</a>'\n",
              "            + ' to learn more about interactive tables.';\n",
              "          element.innerHTML = '';\n",
              "          dataTable['output_type'] = 'display_data';\n",
              "          await google.colab.output.renderOutput(dataTable, element);\n",
              "          const docLink = document.createElement('div');\n",
              "          docLink.innerHTML = docLinkHtml;\n",
              "          element.appendChild(docLink);\n",
              "        }\n",
              "      </script>\n",
              "    </div>\n",
              "  </div>\n",
              "  "
            ]
          },
          "metadata": {},
          "execution_count": 3
        }
      ]
    },
    {
      "cell_type": "markdown",
      "source": [
        "# Trduzindo variavés"
      ],
      "metadata": {
        "id": "NSFUkgasXSjC"
      }
    },
    {
      "cell_type": "code",
      "source": [
        "traducao_dic = {\n",
        "    'Sim' : 1,\n",
        "    'Nao' : 0 \n",
        "}\n",
        "\n",
        "dadosmodificados = dados[['Conjuge', 'Dependentes', 'TelefoneFixo', 'PagamentoOnline', 'Churn']].replace(traducao_dic)\n",
        "dadosmodificados.head()"
      ],
      "metadata": {
        "id": "qhVljL07XR0Y",
        "colab": {
          "base_uri": "https://localhost:8080/",
          "height": 206
        },
        "outputId": "1c9be620-27bc-4065-c895-73f750f1d15f"
      },
      "execution_count": null,
      "outputs": [
        {
          "output_type": "execute_result",
          "data": {
            "text/plain": [
              "   Conjuge  Dependentes  TelefoneFixo  PagamentoOnline  Churn\n",
              "0        1            0             0                1      0\n",
              "1        0            0             1                0      0\n",
              "2        0            0             1                1      1\n",
              "3        0            0             0                0      0\n",
              "4        0            0             1                1      1"
            ],
            "text/html": [
              "\n",
              "  <div id=\"df-66ebb15a-47ca-47e5-8e62-d9d03150438d\">\n",
              "    <div class=\"colab-df-container\">\n",
              "      <div>\n",
              "<style scoped>\n",
              "    .dataframe tbody tr th:only-of-type {\n",
              "        vertical-align: middle;\n",
              "    }\n",
              "\n",
              "    .dataframe tbody tr th {\n",
              "        vertical-align: top;\n",
              "    }\n",
              "\n",
              "    .dataframe thead th {\n",
              "        text-align: right;\n",
              "    }\n",
              "</style>\n",
              "<table border=\"1\" class=\"dataframe\">\n",
              "  <thead>\n",
              "    <tr style=\"text-align: right;\">\n",
              "      <th></th>\n",
              "      <th>Conjuge</th>\n",
              "      <th>Dependentes</th>\n",
              "      <th>TelefoneFixo</th>\n",
              "      <th>PagamentoOnline</th>\n",
              "      <th>Churn</th>\n",
              "    </tr>\n",
              "  </thead>\n",
              "  <tbody>\n",
              "    <tr>\n",
              "      <th>0</th>\n",
              "      <td>1</td>\n",
              "      <td>0</td>\n",
              "      <td>0</td>\n",
              "      <td>1</td>\n",
              "      <td>0</td>\n",
              "    </tr>\n",
              "    <tr>\n",
              "      <th>1</th>\n",
              "      <td>0</td>\n",
              "      <td>0</td>\n",
              "      <td>1</td>\n",
              "      <td>0</td>\n",
              "      <td>0</td>\n",
              "    </tr>\n",
              "    <tr>\n",
              "      <th>2</th>\n",
              "      <td>0</td>\n",
              "      <td>0</td>\n",
              "      <td>1</td>\n",
              "      <td>1</td>\n",
              "      <td>1</td>\n",
              "    </tr>\n",
              "    <tr>\n",
              "      <th>3</th>\n",
              "      <td>0</td>\n",
              "      <td>0</td>\n",
              "      <td>0</td>\n",
              "      <td>0</td>\n",
              "      <td>0</td>\n",
              "    </tr>\n",
              "    <tr>\n",
              "      <th>4</th>\n",
              "      <td>0</td>\n",
              "      <td>0</td>\n",
              "      <td>1</td>\n",
              "      <td>1</td>\n",
              "      <td>1</td>\n",
              "    </tr>\n",
              "  </tbody>\n",
              "</table>\n",
              "</div>\n",
              "      <button class=\"colab-df-convert\" onclick=\"convertToInteractive('df-66ebb15a-47ca-47e5-8e62-d9d03150438d')\"\n",
              "              title=\"Convert this dataframe to an interactive table.\"\n",
              "              style=\"display:none;\">\n",
              "        \n",
              "  <svg xmlns=\"http://www.w3.org/2000/svg\" height=\"24px\"viewBox=\"0 0 24 24\"\n",
              "       width=\"24px\">\n",
              "    <path d=\"M0 0h24v24H0V0z\" fill=\"none\"/>\n",
              "    <path d=\"M18.56 5.44l.94 2.06.94-2.06 2.06-.94-2.06-.94-.94-2.06-.94 2.06-2.06.94zm-11 1L8.5 8.5l.94-2.06 2.06-.94-2.06-.94L8.5 2.5l-.94 2.06-2.06.94zm10 10l.94 2.06.94-2.06 2.06-.94-2.06-.94-.94-2.06-.94 2.06-2.06.94z\"/><path d=\"M17.41 7.96l-1.37-1.37c-.4-.4-.92-.59-1.43-.59-.52 0-1.04.2-1.43.59L10.3 9.45l-7.72 7.72c-.78.78-.78 2.05 0 2.83L4 21.41c.39.39.9.59 1.41.59.51 0 1.02-.2 1.41-.59l7.78-7.78 2.81-2.81c.8-.78.8-2.07 0-2.86zM5.41 20L4 18.59l7.72-7.72 1.47 1.35L5.41 20z\"/>\n",
              "  </svg>\n",
              "      </button>\n",
              "      \n",
              "  <style>\n",
              "    .colab-df-container {\n",
              "      display:flex;\n",
              "      flex-wrap:wrap;\n",
              "      gap: 12px;\n",
              "    }\n",
              "\n",
              "    .colab-df-convert {\n",
              "      background-color: #E8F0FE;\n",
              "      border: none;\n",
              "      border-radius: 50%;\n",
              "      cursor: pointer;\n",
              "      display: none;\n",
              "      fill: #1967D2;\n",
              "      height: 32px;\n",
              "      padding: 0 0 0 0;\n",
              "      width: 32px;\n",
              "    }\n",
              "\n",
              "    .colab-df-convert:hover {\n",
              "      background-color: #E2EBFA;\n",
              "      box-shadow: 0px 1px 2px rgba(60, 64, 67, 0.3), 0px 1px 3px 1px rgba(60, 64, 67, 0.15);\n",
              "      fill: #174EA6;\n",
              "    }\n",
              "\n",
              "    [theme=dark] .colab-df-convert {\n",
              "      background-color: #3B4455;\n",
              "      fill: #D2E3FC;\n",
              "    }\n",
              "\n",
              "    [theme=dark] .colab-df-convert:hover {\n",
              "      background-color: #434B5C;\n",
              "      box-shadow: 0px 1px 3px 1px rgba(0, 0, 0, 0.15);\n",
              "      filter: drop-shadow(0px 1px 2px rgba(0, 0, 0, 0.3));\n",
              "      fill: #FFFFFF;\n",
              "    }\n",
              "  </style>\n",
              "\n",
              "      <script>\n",
              "        const buttonEl =\n",
              "          document.querySelector('#df-66ebb15a-47ca-47e5-8e62-d9d03150438d button.colab-df-convert');\n",
              "        buttonEl.style.display =\n",
              "          google.colab.kernel.accessAllowed ? 'block' : 'none';\n",
              "\n",
              "        async function convertToInteractive(key) {\n",
              "          const element = document.querySelector('#df-66ebb15a-47ca-47e5-8e62-d9d03150438d');\n",
              "          const dataTable =\n",
              "            await google.colab.kernel.invokeFunction('convertToInteractive',\n",
              "                                                     [key], {});\n",
              "          if (!dataTable) return;\n",
              "\n",
              "          const docLinkHtml = 'Like what you see? Visit the ' +\n",
              "            '<a target=\"_blank\" href=https://colab.research.google.com/notebooks/data_table.ipynb>data table notebook</a>'\n",
              "            + ' to learn more about interactive tables.';\n",
              "          element.innerHTML = '';\n",
              "          dataTable['output_type'] = 'display_data';\n",
              "          await google.colab.output.renderOutput(dataTable, element);\n",
              "          const docLink = document.createElement('div');\n",
              "          docLink.innerHTML = docLinkHtml;\n",
              "          element.appendChild(docLink);\n",
              "        }\n",
              "      </script>\n",
              "    </div>\n",
              "  </div>\n",
              "  "
            ]
          },
          "metadata": {},
          "execution_count": 4
        }
      ]
    },
    {
      "cell_type": "markdown",
      "source": [
        "#Trasnfomando a tabela"
      ],
      "metadata": {
        "id": "LlA66iyygsP8"
      }
    },
    {
      "cell_type": "code",
      "source": [
        "#transformação pelo get_dummies\n",
        "dummie_dados = pd.get_dummies(dados.drop(['Conjuge', 'Dependentes', 'TelefoneFixo', 'PagamentoOnline', 'Churn'], axis=1))\n",
        "\n",
        "#junção dos dados transformados com os que ja tinhamos\n",
        "dados_final = pd.concat([dadosmodificados, dummie_dados], axis=1)"
      ],
      "metadata": {
        "id": "gOepmwQfSb1M"
      },
      "execution_count": null,
      "outputs": []
    },
    {
      "cell_type": "code",
      "source": [
        "dados_final.head()"
      ],
      "metadata": {
        "id": "lgz7iGdyZjKd",
        "colab": {
          "base_uri": "https://localhost:8080/",
          "height": 300
        },
        "outputId": "4f271311-2f02-43e7-e358-d9a6e2815bc4"
      },
      "execution_count": null,
      "outputs": [
        {
          "output_type": "execute_result",
          "data": {
            "text/plain": [
              "   Conjuge  Dependentes  TelefoneFixo  PagamentoOnline  Churn  Maior65Anos  \\\n",
              "0        1            0             0                1      0            0   \n",
              "1        0            0             1                0      0            0   \n",
              "2        0            0             1                1      1            0   \n",
              "3        0            0             0                0      0            0   \n",
              "4        0            0             1                1      1            0   \n",
              "\n",
              "   MesesDeContrato  ContaMensal  VariasLinhasTelefonicas_Nao  \\\n",
              "0                1        29.85                            0   \n",
              "1               34        56.95                            1   \n",
              "2                2        53.85                            1   \n",
              "3               45        42.30                            0   \n",
              "4                2        70.70                            1   \n",
              "\n",
              "   VariasLinhasTelefonicas_SemServicoTelefonico  ...  StreamingDeFilmes_Nao  \\\n",
              "0                                             1  ...                      1   \n",
              "1                                             0  ...                      1   \n",
              "2                                             0  ...                      1   \n",
              "3                                             1  ...                      1   \n",
              "4                                             0  ...                      1   \n",
              "\n",
              "   StreamingDeFilmes_SemServicoDeInternet  StreamingDeFilmes_Sim  \\\n",
              "0                                       0                      0   \n",
              "1                                       0                      0   \n",
              "2                                       0                      0   \n",
              "3                                       0                      0   \n",
              "4                                       0                      0   \n",
              "\n",
              "   TipoDeContrato_DoisAnos  TipoDeContrato_Mensalmente  TipoDeContrato_UmAno  \\\n",
              "0                        0                           1                     0   \n",
              "1                        0                           0                     1   \n",
              "2                        0                           1                     0   \n",
              "3                        0                           0                     1   \n",
              "4                        0                           1                     0   \n",
              "\n",
              "   FormaDePagamento_CartaoDeCredito  FormaDePagamento_ChequeDigital  \\\n",
              "0                                 0                               1   \n",
              "1                                 0                               0   \n",
              "2                                 0                               0   \n",
              "3                                 0                               0   \n",
              "4                                 0                               1   \n",
              "\n",
              "   FormaDePagamento_ChequePapel  FormaDePagamento_DebitoEmConta  \n",
              "0                             0                               0  \n",
              "1                             1                               0  \n",
              "2                             1                               0  \n",
              "3                             0                               1  \n",
              "4                             0                               0  \n",
              "\n",
              "[5 rows x 39 columns]"
            ],
            "text/html": [
              "\n",
              "  <div id=\"df-0d123cd2-2b72-4382-965b-1c71ce2a74cf\">\n",
              "    <div class=\"colab-df-container\">\n",
              "      <div>\n",
              "<style scoped>\n",
              "    .dataframe tbody tr th:only-of-type {\n",
              "        vertical-align: middle;\n",
              "    }\n",
              "\n",
              "    .dataframe tbody tr th {\n",
              "        vertical-align: top;\n",
              "    }\n",
              "\n",
              "    .dataframe thead th {\n",
              "        text-align: right;\n",
              "    }\n",
              "</style>\n",
              "<table border=\"1\" class=\"dataframe\">\n",
              "  <thead>\n",
              "    <tr style=\"text-align: right;\">\n",
              "      <th></th>\n",
              "      <th>Conjuge</th>\n",
              "      <th>Dependentes</th>\n",
              "      <th>TelefoneFixo</th>\n",
              "      <th>PagamentoOnline</th>\n",
              "      <th>Churn</th>\n",
              "      <th>Maior65Anos</th>\n",
              "      <th>MesesDeContrato</th>\n",
              "      <th>ContaMensal</th>\n",
              "      <th>VariasLinhasTelefonicas_Nao</th>\n",
              "      <th>VariasLinhasTelefonicas_SemServicoTelefonico</th>\n",
              "      <th>...</th>\n",
              "      <th>StreamingDeFilmes_Nao</th>\n",
              "      <th>StreamingDeFilmes_SemServicoDeInternet</th>\n",
              "      <th>StreamingDeFilmes_Sim</th>\n",
              "      <th>TipoDeContrato_DoisAnos</th>\n",
              "      <th>TipoDeContrato_Mensalmente</th>\n",
              "      <th>TipoDeContrato_UmAno</th>\n",
              "      <th>FormaDePagamento_CartaoDeCredito</th>\n",
              "      <th>FormaDePagamento_ChequeDigital</th>\n",
              "      <th>FormaDePagamento_ChequePapel</th>\n",
              "      <th>FormaDePagamento_DebitoEmConta</th>\n",
              "    </tr>\n",
              "  </thead>\n",
              "  <tbody>\n",
              "    <tr>\n",
              "      <th>0</th>\n",
              "      <td>1</td>\n",
              "      <td>0</td>\n",
              "      <td>0</td>\n",
              "      <td>1</td>\n",
              "      <td>0</td>\n",
              "      <td>0</td>\n",
              "      <td>1</td>\n",
              "      <td>29.85</td>\n",
              "      <td>0</td>\n",
              "      <td>1</td>\n",
              "      <td>...</td>\n",
              "      <td>1</td>\n",
              "      <td>0</td>\n",
              "      <td>0</td>\n",
              "      <td>0</td>\n",
              "      <td>1</td>\n",
              "      <td>0</td>\n",
              "      <td>0</td>\n",
              "      <td>1</td>\n",
              "      <td>0</td>\n",
              "      <td>0</td>\n",
              "    </tr>\n",
              "    <tr>\n",
              "      <th>1</th>\n",
              "      <td>0</td>\n",
              "      <td>0</td>\n",
              "      <td>1</td>\n",
              "      <td>0</td>\n",
              "      <td>0</td>\n",
              "      <td>0</td>\n",
              "      <td>34</td>\n",
              "      <td>56.95</td>\n",
              "      <td>1</td>\n",
              "      <td>0</td>\n",
              "      <td>...</td>\n",
              "      <td>1</td>\n",
              "      <td>0</td>\n",
              "      <td>0</td>\n",
              "      <td>0</td>\n",
              "      <td>0</td>\n",
              "      <td>1</td>\n",
              "      <td>0</td>\n",
              "      <td>0</td>\n",
              "      <td>1</td>\n",
              "      <td>0</td>\n",
              "    </tr>\n",
              "    <tr>\n",
              "      <th>2</th>\n",
              "      <td>0</td>\n",
              "      <td>0</td>\n",
              "      <td>1</td>\n",
              "      <td>1</td>\n",
              "      <td>1</td>\n",
              "      <td>0</td>\n",
              "      <td>2</td>\n",
              "      <td>53.85</td>\n",
              "      <td>1</td>\n",
              "      <td>0</td>\n",
              "      <td>...</td>\n",
              "      <td>1</td>\n",
              "      <td>0</td>\n",
              "      <td>0</td>\n",
              "      <td>0</td>\n",
              "      <td>1</td>\n",
              "      <td>0</td>\n",
              "      <td>0</td>\n",
              "      <td>0</td>\n",
              "      <td>1</td>\n",
              "      <td>0</td>\n",
              "    </tr>\n",
              "    <tr>\n",
              "      <th>3</th>\n",
              "      <td>0</td>\n",
              "      <td>0</td>\n",
              "      <td>0</td>\n",
              "      <td>0</td>\n",
              "      <td>0</td>\n",
              "      <td>0</td>\n",
              "      <td>45</td>\n",
              "      <td>42.30</td>\n",
              "      <td>0</td>\n",
              "      <td>1</td>\n",
              "      <td>...</td>\n",
              "      <td>1</td>\n",
              "      <td>0</td>\n",
              "      <td>0</td>\n",
              "      <td>0</td>\n",
              "      <td>0</td>\n",
              "      <td>1</td>\n",
              "      <td>0</td>\n",
              "      <td>0</td>\n",
              "      <td>0</td>\n",
              "      <td>1</td>\n",
              "    </tr>\n",
              "    <tr>\n",
              "      <th>4</th>\n",
              "      <td>0</td>\n",
              "      <td>0</td>\n",
              "      <td>1</td>\n",
              "      <td>1</td>\n",
              "      <td>1</td>\n",
              "      <td>0</td>\n",
              "      <td>2</td>\n",
              "      <td>70.70</td>\n",
              "      <td>1</td>\n",
              "      <td>0</td>\n",
              "      <td>...</td>\n",
              "      <td>1</td>\n",
              "      <td>0</td>\n",
              "      <td>0</td>\n",
              "      <td>0</td>\n",
              "      <td>1</td>\n",
              "      <td>0</td>\n",
              "      <td>0</td>\n",
              "      <td>1</td>\n",
              "      <td>0</td>\n",
              "      <td>0</td>\n",
              "    </tr>\n",
              "  </tbody>\n",
              "</table>\n",
              "<p>5 rows × 39 columns</p>\n",
              "</div>\n",
              "      <button class=\"colab-df-convert\" onclick=\"convertToInteractive('df-0d123cd2-2b72-4382-965b-1c71ce2a74cf')\"\n",
              "              title=\"Convert this dataframe to an interactive table.\"\n",
              "              style=\"display:none;\">\n",
              "        \n",
              "  <svg xmlns=\"http://www.w3.org/2000/svg\" height=\"24px\"viewBox=\"0 0 24 24\"\n",
              "       width=\"24px\">\n",
              "    <path d=\"M0 0h24v24H0V0z\" fill=\"none\"/>\n",
              "    <path d=\"M18.56 5.44l.94 2.06.94-2.06 2.06-.94-2.06-.94-.94-2.06-.94 2.06-2.06.94zm-11 1L8.5 8.5l.94-2.06 2.06-.94-2.06-.94L8.5 2.5l-.94 2.06-2.06.94zm10 10l.94 2.06.94-2.06 2.06-.94-2.06-.94-.94-2.06-.94 2.06-2.06.94z\"/><path d=\"M17.41 7.96l-1.37-1.37c-.4-.4-.92-.59-1.43-.59-.52 0-1.04.2-1.43.59L10.3 9.45l-7.72 7.72c-.78.78-.78 2.05 0 2.83L4 21.41c.39.39.9.59 1.41.59.51 0 1.02-.2 1.41-.59l7.78-7.78 2.81-2.81c.8-.78.8-2.07 0-2.86zM5.41 20L4 18.59l7.72-7.72 1.47 1.35L5.41 20z\"/>\n",
              "  </svg>\n",
              "      </button>\n",
              "      \n",
              "  <style>\n",
              "    .colab-df-container {\n",
              "      display:flex;\n",
              "      flex-wrap:wrap;\n",
              "      gap: 12px;\n",
              "    }\n",
              "\n",
              "    .colab-df-convert {\n",
              "      background-color: #E8F0FE;\n",
              "      border: none;\n",
              "      border-radius: 50%;\n",
              "      cursor: pointer;\n",
              "      display: none;\n",
              "      fill: #1967D2;\n",
              "      height: 32px;\n",
              "      padding: 0 0 0 0;\n",
              "      width: 32px;\n",
              "    }\n",
              "\n",
              "    .colab-df-convert:hover {\n",
              "      background-color: #E2EBFA;\n",
              "      box-shadow: 0px 1px 2px rgba(60, 64, 67, 0.3), 0px 1px 3px 1px rgba(60, 64, 67, 0.15);\n",
              "      fill: #174EA6;\n",
              "    }\n",
              "\n",
              "    [theme=dark] .colab-df-convert {\n",
              "      background-color: #3B4455;\n",
              "      fill: #D2E3FC;\n",
              "    }\n",
              "\n",
              "    [theme=dark] .colab-df-convert:hover {\n",
              "      background-color: #434B5C;\n",
              "      box-shadow: 0px 1px 3px 1px rgba(0, 0, 0, 0.15);\n",
              "      filter: drop-shadow(0px 1px 2px rgba(0, 0, 0, 0.3));\n",
              "      fill: #FFFFFF;\n",
              "    }\n",
              "  </style>\n",
              "\n",
              "      <script>\n",
              "        const buttonEl =\n",
              "          document.querySelector('#df-0d123cd2-2b72-4382-965b-1c71ce2a74cf button.colab-df-convert');\n",
              "        buttonEl.style.display =\n",
              "          google.colab.kernel.accessAllowed ? 'block' : 'none';\n",
              "\n",
              "        async function convertToInteractive(key) {\n",
              "          const element = document.querySelector('#df-0d123cd2-2b72-4382-965b-1c71ce2a74cf');\n",
              "          const dataTable =\n",
              "            await google.colab.kernel.invokeFunction('convertToInteractive',\n",
              "                                                     [key], {});\n",
              "          if (!dataTable) return;\n",
              "\n",
              "          const docLinkHtml = 'Like what you see? Visit the ' +\n",
              "            '<a target=\"_blank\" href=https://colab.research.google.com/notebooks/data_table.ipynb>data table notebook</a>'\n",
              "            + ' to learn more about interactive tables.';\n",
              "          element.innerHTML = '';\n",
              "          dataTable['output_type'] = 'display_data';\n",
              "          await google.colab.output.renderOutput(dataTable, element);\n",
              "          const docLink = document.createElement('div');\n",
              "          docLink.innerHTML = docLinkHtml;\n",
              "          element.appendChild(docLink);\n",
              "        }\n",
              "      </script>\n",
              "    </div>\n",
              "  </div>\n",
              "  "
            ]
          },
          "metadata": {},
          "execution_count": 6
        }
      ]
    },
    {
      "cell_type": "code",
      "source": [
        "dados.shape"
      ],
      "metadata": {
        "id": "l1xdcoR4ZlpL",
        "colab": {
          "base_uri": "https://localhost:8080/"
        },
        "outputId": "cc4a306d-ca0e-4101-b96a-989ae3192abf"
      },
      "execution_count": null,
      "outputs": [
        {
          "output_type": "execute_result",
          "data": {
            "text/plain": [
              "(7043, 18)"
            ]
          },
          "metadata": {},
          "execution_count": 7
        }
      ]
    },
    {
      "cell_type": "code",
      "source": [
        "pd.set_option('display.max_columns', 39)#mostrar todas as colunas"
      ],
      "metadata": {
        "id": "i4AHh3L_Zqr7"
      },
      "execution_count": null,
      "outputs": []
    },
    {
      "cell_type": "code",
      "source": [
        "dados_final.head()"
      ],
      "metadata": {
        "id": "mYQKiKOUb4k2",
        "colab": {
          "base_uri": "https://localhost:8080/",
          "height": 270
        },
        "outputId": "3d87ac23-7ba5-4ccd-9e0f-799ea9d6e2e7"
      },
      "execution_count": null,
      "outputs": [
        {
          "output_type": "execute_result",
          "data": {
            "text/plain": [
              "   Conjuge  Dependentes  TelefoneFixo  PagamentoOnline  Churn  Maior65Anos  \\\n",
              "0        1            0             0                1      0            0   \n",
              "1        0            0             1                0      0            0   \n",
              "2        0            0             1                1      1            0   \n",
              "3        0            0             0                0      0            0   \n",
              "4        0            0             1                1      1            0   \n",
              "\n",
              "   MesesDeContrato  ContaMensal  VariasLinhasTelefonicas_Nao  \\\n",
              "0                1        29.85                            0   \n",
              "1               34        56.95                            1   \n",
              "2                2        53.85                            1   \n",
              "3               45        42.30                            0   \n",
              "4                2        70.70                            1   \n",
              "\n",
              "   VariasLinhasTelefonicas_SemServicoTelefonico  VariasLinhasTelefonicas_Sim  \\\n",
              "0                                             1                            0   \n",
              "1                                             0                            0   \n",
              "2                                             0                            0   \n",
              "3                                             1                            0   \n",
              "4                                             0                            0   \n",
              "\n",
              "   ServicoDeInternet_DSL  ServicoDeInternet_FibraOptica  \\\n",
              "0                      1                              0   \n",
              "1                      1                              0   \n",
              "2                      1                              0   \n",
              "3                      1                              0   \n",
              "4                      0                              1   \n",
              "\n",
              "   ServicoDeInternet_Nao  SegurancaOnline_Nao  \\\n",
              "0                      0                    1   \n",
              "1                      0                    0   \n",
              "2                      0                    0   \n",
              "3                      0                    0   \n",
              "4                      0                    1   \n",
              "\n",
              "   SegurancaOnline_SemServicoDeInternet  SegurancaOnline_Sim  \\\n",
              "0                                     0                    0   \n",
              "1                                     0                    1   \n",
              "2                                     0                    1   \n",
              "3                                     0                    1   \n",
              "4                                     0                    0   \n",
              "\n",
              "   BackupOnline_Nao  BackupOnline_SemServicoDeInternet  BackupOnline_Sim  \\\n",
              "0                 0                                  0                 1   \n",
              "1                 1                                  0                 0   \n",
              "2                 0                                  0                 1   \n",
              "3                 1                                  0                 0   \n",
              "4                 1                                  0                 0   \n",
              "\n",
              "   SeguroNoDispositivo_Nao  SeguroNoDispositivo_SemServicoDeInternet  \\\n",
              "0                        1                                         0   \n",
              "1                        0                                         0   \n",
              "2                        1                                         0   \n",
              "3                        0                                         0   \n",
              "4                        1                                         0   \n",
              "\n",
              "   SeguroNoDispositivo_Sim  SuporteTecnico_Nao  \\\n",
              "0                        0                   1   \n",
              "1                        1                   1   \n",
              "2                        0                   1   \n",
              "3                        1                   0   \n",
              "4                        0                   1   \n",
              "\n",
              "   SuporteTecnico_SemServicoDeInternet  SuporteTecnico_Sim  TVaCabo_Nao  \\\n",
              "0                                    0                   0            1   \n",
              "1                                    0                   0            1   \n",
              "2                                    0                   0            1   \n",
              "3                                    0                   1            1   \n",
              "4                                    0                   0            1   \n",
              "\n",
              "   TVaCabo_SemServicoDeInternet  TVaCabo_Sim  StreamingDeFilmes_Nao  \\\n",
              "0                             0            0                      1   \n",
              "1                             0            0                      1   \n",
              "2                             0            0                      1   \n",
              "3                             0            0                      1   \n",
              "4                             0            0                      1   \n",
              "\n",
              "   StreamingDeFilmes_SemServicoDeInternet  StreamingDeFilmes_Sim  \\\n",
              "0                                       0                      0   \n",
              "1                                       0                      0   \n",
              "2                                       0                      0   \n",
              "3                                       0                      0   \n",
              "4                                       0                      0   \n",
              "\n",
              "   TipoDeContrato_DoisAnos  TipoDeContrato_Mensalmente  TipoDeContrato_UmAno  \\\n",
              "0                        0                           1                     0   \n",
              "1                        0                           0                     1   \n",
              "2                        0                           1                     0   \n",
              "3                        0                           0                     1   \n",
              "4                        0                           1                     0   \n",
              "\n",
              "   FormaDePagamento_CartaoDeCredito  FormaDePagamento_ChequeDigital  \\\n",
              "0                                 0                               1   \n",
              "1                                 0                               0   \n",
              "2                                 0                               0   \n",
              "3                                 0                               0   \n",
              "4                                 0                               1   \n",
              "\n",
              "   FormaDePagamento_ChequePapel  FormaDePagamento_DebitoEmConta  \n",
              "0                             0                               0  \n",
              "1                             1                               0  \n",
              "2                             1                               0  \n",
              "3                             0                               1  \n",
              "4                             0                               0  "
            ],
            "text/html": [
              "\n",
              "  <div id=\"df-4acb43b1-6721-4540-adfc-3b46562a3e98\">\n",
              "    <div class=\"colab-df-container\">\n",
              "      <div>\n",
              "<style scoped>\n",
              "    .dataframe tbody tr th:only-of-type {\n",
              "        vertical-align: middle;\n",
              "    }\n",
              "\n",
              "    .dataframe tbody tr th {\n",
              "        vertical-align: top;\n",
              "    }\n",
              "\n",
              "    .dataframe thead th {\n",
              "        text-align: right;\n",
              "    }\n",
              "</style>\n",
              "<table border=\"1\" class=\"dataframe\">\n",
              "  <thead>\n",
              "    <tr style=\"text-align: right;\">\n",
              "      <th></th>\n",
              "      <th>Conjuge</th>\n",
              "      <th>Dependentes</th>\n",
              "      <th>TelefoneFixo</th>\n",
              "      <th>PagamentoOnline</th>\n",
              "      <th>Churn</th>\n",
              "      <th>Maior65Anos</th>\n",
              "      <th>MesesDeContrato</th>\n",
              "      <th>ContaMensal</th>\n",
              "      <th>VariasLinhasTelefonicas_Nao</th>\n",
              "      <th>VariasLinhasTelefonicas_SemServicoTelefonico</th>\n",
              "      <th>VariasLinhasTelefonicas_Sim</th>\n",
              "      <th>ServicoDeInternet_DSL</th>\n",
              "      <th>ServicoDeInternet_FibraOptica</th>\n",
              "      <th>ServicoDeInternet_Nao</th>\n",
              "      <th>SegurancaOnline_Nao</th>\n",
              "      <th>SegurancaOnline_SemServicoDeInternet</th>\n",
              "      <th>SegurancaOnline_Sim</th>\n",
              "      <th>BackupOnline_Nao</th>\n",
              "      <th>BackupOnline_SemServicoDeInternet</th>\n",
              "      <th>BackupOnline_Sim</th>\n",
              "      <th>SeguroNoDispositivo_Nao</th>\n",
              "      <th>SeguroNoDispositivo_SemServicoDeInternet</th>\n",
              "      <th>SeguroNoDispositivo_Sim</th>\n",
              "      <th>SuporteTecnico_Nao</th>\n",
              "      <th>SuporteTecnico_SemServicoDeInternet</th>\n",
              "      <th>SuporteTecnico_Sim</th>\n",
              "      <th>TVaCabo_Nao</th>\n",
              "      <th>TVaCabo_SemServicoDeInternet</th>\n",
              "      <th>TVaCabo_Sim</th>\n",
              "      <th>StreamingDeFilmes_Nao</th>\n",
              "      <th>StreamingDeFilmes_SemServicoDeInternet</th>\n",
              "      <th>StreamingDeFilmes_Sim</th>\n",
              "      <th>TipoDeContrato_DoisAnos</th>\n",
              "      <th>TipoDeContrato_Mensalmente</th>\n",
              "      <th>TipoDeContrato_UmAno</th>\n",
              "      <th>FormaDePagamento_CartaoDeCredito</th>\n",
              "      <th>FormaDePagamento_ChequeDigital</th>\n",
              "      <th>FormaDePagamento_ChequePapel</th>\n",
              "      <th>FormaDePagamento_DebitoEmConta</th>\n",
              "    </tr>\n",
              "  </thead>\n",
              "  <tbody>\n",
              "    <tr>\n",
              "      <th>0</th>\n",
              "      <td>1</td>\n",
              "      <td>0</td>\n",
              "      <td>0</td>\n",
              "      <td>1</td>\n",
              "      <td>0</td>\n",
              "      <td>0</td>\n",
              "      <td>1</td>\n",
              "      <td>29.85</td>\n",
              "      <td>0</td>\n",
              "      <td>1</td>\n",
              "      <td>0</td>\n",
              "      <td>1</td>\n",
              "      <td>0</td>\n",
              "      <td>0</td>\n",
              "      <td>1</td>\n",
              "      <td>0</td>\n",
              "      <td>0</td>\n",
              "      <td>0</td>\n",
              "      <td>0</td>\n",
              "      <td>1</td>\n",
              "      <td>1</td>\n",
              "      <td>0</td>\n",
              "      <td>0</td>\n",
              "      <td>1</td>\n",
              "      <td>0</td>\n",
              "      <td>0</td>\n",
              "      <td>1</td>\n",
              "      <td>0</td>\n",
              "      <td>0</td>\n",
              "      <td>1</td>\n",
              "      <td>0</td>\n",
              "      <td>0</td>\n",
              "      <td>0</td>\n",
              "      <td>1</td>\n",
              "      <td>0</td>\n",
              "      <td>0</td>\n",
              "      <td>1</td>\n",
              "      <td>0</td>\n",
              "      <td>0</td>\n",
              "    </tr>\n",
              "    <tr>\n",
              "      <th>1</th>\n",
              "      <td>0</td>\n",
              "      <td>0</td>\n",
              "      <td>1</td>\n",
              "      <td>0</td>\n",
              "      <td>0</td>\n",
              "      <td>0</td>\n",
              "      <td>34</td>\n",
              "      <td>56.95</td>\n",
              "      <td>1</td>\n",
              "      <td>0</td>\n",
              "      <td>0</td>\n",
              "      <td>1</td>\n",
              "      <td>0</td>\n",
              "      <td>0</td>\n",
              "      <td>0</td>\n",
              "      <td>0</td>\n",
              "      <td>1</td>\n",
              "      <td>1</td>\n",
              "      <td>0</td>\n",
              "      <td>0</td>\n",
              "      <td>0</td>\n",
              "      <td>0</td>\n",
              "      <td>1</td>\n",
              "      <td>1</td>\n",
              "      <td>0</td>\n",
              "      <td>0</td>\n",
              "      <td>1</td>\n",
              "      <td>0</td>\n",
              "      <td>0</td>\n",
              "      <td>1</td>\n",
              "      <td>0</td>\n",
              "      <td>0</td>\n",
              "      <td>0</td>\n",
              "      <td>0</td>\n",
              "      <td>1</td>\n",
              "      <td>0</td>\n",
              "      <td>0</td>\n",
              "      <td>1</td>\n",
              "      <td>0</td>\n",
              "    </tr>\n",
              "    <tr>\n",
              "      <th>2</th>\n",
              "      <td>0</td>\n",
              "      <td>0</td>\n",
              "      <td>1</td>\n",
              "      <td>1</td>\n",
              "      <td>1</td>\n",
              "      <td>0</td>\n",
              "      <td>2</td>\n",
              "      <td>53.85</td>\n",
              "      <td>1</td>\n",
              "      <td>0</td>\n",
              "      <td>0</td>\n",
              "      <td>1</td>\n",
              "      <td>0</td>\n",
              "      <td>0</td>\n",
              "      <td>0</td>\n",
              "      <td>0</td>\n",
              "      <td>1</td>\n",
              "      <td>0</td>\n",
              "      <td>0</td>\n",
              "      <td>1</td>\n",
              "      <td>1</td>\n",
              "      <td>0</td>\n",
              "      <td>0</td>\n",
              "      <td>1</td>\n",
              "      <td>0</td>\n",
              "      <td>0</td>\n",
              "      <td>1</td>\n",
              "      <td>0</td>\n",
              "      <td>0</td>\n",
              "      <td>1</td>\n",
              "      <td>0</td>\n",
              "      <td>0</td>\n",
              "      <td>0</td>\n",
              "      <td>1</td>\n",
              "      <td>0</td>\n",
              "      <td>0</td>\n",
              "      <td>0</td>\n",
              "      <td>1</td>\n",
              "      <td>0</td>\n",
              "    </tr>\n",
              "    <tr>\n",
              "      <th>3</th>\n",
              "      <td>0</td>\n",
              "      <td>0</td>\n",
              "      <td>0</td>\n",
              "      <td>0</td>\n",
              "      <td>0</td>\n",
              "      <td>0</td>\n",
              "      <td>45</td>\n",
              "      <td>42.30</td>\n",
              "      <td>0</td>\n",
              "      <td>1</td>\n",
              "      <td>0</td>\n",
              "      <td>1</td>\n",
              "      <td>0</td>\n",
              "      <td>0</td>\n",
              "      <td>0</td>\n",
              "      <td>0</td>\n",
              "      <td>1</td>\n",
              "      <td>1</td>\n",
              "      <td>0</td>\n",
              "      <td>0</td>\n",
              "      <td>0</td>\n",
              "      <td>0</td>\n",
              "      <td>1</td>\n",
              "      <td>0</td>\n",
              "      <td>0</td>\n",
              "      <td>1</td>\n",
              "      <td>1</td>\n",
              "      <td>0</td>\n",
              "      <td>0</td>\n",
              "      <td>1</td>\n",
              "      <td>0</td>\n",
              "      <td>0</td>\n",
              "      <td>0</td>\n",
              "      <td>0</td>\n",
              "      <td>1</td>\n",
              "      <td>0</td>\n",
              "      <td>0</td>\n",
              "      <td>0</td>\n",
              "      <td>1</td>\n",
              "    </tr>\n",
              "    <tr>\n",
              "      <th>4</th>\n",
              "      <td>0</td>\n",
              "      <td>0</td>\n",
              "      <td>1</td>\n",
              "      <td>1</td>\n",
              "      <td>1</td>\n",
              "      <td>0</td>\n",
              "      <td>2</td>\n",
              "      <td>70.70</td>\n",
              "      <td>1</td>\n",
              "      <td>0</td>\n",
              "      <td>0</td>\n",
              "      <td>0</td>\n",
              "      <td>1</td>\n",
              "      <td>0</td>\n",
              "      <td>1</td>\n",
              "      <td>0</td>\n",
              "      <td>0</td>\n",
              "      <td>1</td>\n",
              "      <td>0</td>\n",
              "      <td>0</td>\n",
              "      <td>1</td>\n",
              "      <td>0</td>\n",
              "      <td>0</td>\n",
              "      <td>1</td>\n",
              "      <td>0</td>\n",
              "      <td>0</td>\n",
              "      <td>1</td>\n",
              "      <td>0</td>\n",
              "      <td>0</td>\n",
              "      <td>1</td>\n",
              "      <td>0</td>\n",
              "      <td>0</td>\n",
              "      <td>0</td>\n",
              "      <td>1</td>\n",
              "      <td>0</td>\n",
              "      <td>0</td>\n",
              "      <td>1</td>\n",
              "      <td>0</td>\n",
              "      <td>0</td>\n",
              "    </tr>\n",
              "  </tbody>\n",
              "</table>\n",
              "</div>\n",
              "      <button class=\"colab-df-convert\" onclick=\"convertToInteractive('df-4acb43b1-6721-4540-adfc-3b46562a3e98')\"\n",
              "              title=\"Convert this dataframe to an interactive table.\"\n",
              "              style=\"display:none;\">\n",
              "        \n",
              "  <svg xmlns=\"http://www.w3.org/2000/svg\" height=\"24px\"viewBox=\"0 0 24 24\"\n",
              "       width=\"24px\">\n",
              "    <path d=\"M0 0h24v24H0V0z\" fill=\"none\"/>\n",
              "    <path d=\"M18.56 5.44l.94 2.06.94-2.06 2.06-.94-2.06-.94-.94-2.06-.94 2.06-2.06.94zm-11 1L8.5 8.5l.94-2.06 2.06-.94-2.06-.94L8.5 2.5l-.94 2.06-2.06.94zm10 10l.94 2.06.94-2.06 2.06-.94-2.06-.94-.94-2.06-.94 2.06-2.06.94z\"/><path d=\"M17.41 7.96l-1.37-1.37c-.4-.4-.92-.59-1.43-.59-.52 0-1.04.2-1.43.59L10.3 9.45l-7.72 7.72c-.78.78-.78 2.05 0 2.83L4 21.41c.39.39.9.59 1.41.59.51 0 1.02-.2 1.41-.59l7.78-7.78 2.81-2.81c.8-.78.8-2.07 0-2.86zM5.41 20L4 18.59l7.72-7.72 1.47 1.35L5.41 20z\"/>\n",
              "  </svg>\n",
              "      </button>\n",
              "      \n",
              "  <style>\n",
              "    .colab-df-container {\n",
              "      display:flex;\n",
              "      flex-wrap:wrap;\n",
              "      gap: 12px;\n",
              "    }\n",
              "\n",
              "    .colab-df-convert {\n",
              "      background-color: #E8F0FE;\n",
              "      border: none;\n",
              "      border-radius: 50%;\n",
              "      cursor: pointer;\n",
              "      display: none;\n",
              "      fill: #1967D2;\n",
              "      height: 32px;\n",
              "      padding: 0 0 0 0;\n",
              "      width: 32px;\n",
              "    }\n",
              "\n",
              "    .colab-df-convert:hover {\n",
              "      background-color: #E2EBFA;\n",
              "      box-shadow: 0px 1px 2px rgba(60, 64, 67, 0.3), 0px 1px 3px 1px rgba(60, 64, 67, 0.15);\n",
              "      fill: #174EA6;\n",
              "    }\n",
              "\n",
              "    [theme=dark] .colab-df-convert {\n",
              "      background-color: #3B4455;\n",
              "      fill: #D2E3FC;\n",
              "    }\n",
              "\n",
              "    [theme=dark] .colab-df-convert:hover {\n",
              "      background-color: #434B5C;\n",
              "      box-shadow: 0px 1px 3px 1px rgba(0, 0, 0, 0.15);\n",
              "      filter: drop-shadow(0px 1px 2px rgba(0, 0, 0, 0.3));\n",
              "      fill: #FFFFFF;\n",
              "    }\n",
              "  </style>\n",
              "\n",
              "      <script>\n",
              "        const buttonEl =\n",
              "          document.querySelector('#df-4acb43b1-6721-4540-adfc-3b46562a3e98 button.colab-df-convert');\n",
              "        buttonEl.style.display =\n",
              "          google.colab.kernel.accessAllowed ? 'block' : 'none';\n",
              "\n",
              "        async function convertToInteractive(key) {\n",
              "          const element = document.querySelector('#df-4acb43b1-6721-4540-adfc-3b46562a3e98');\n",
              "          const dataTable =\n",
              "            await google.colab.kernel.invokeFunction('convertToInteractive',\n",
              "                                                     [key], {});\n",
              "          if (!dataTable) return;\n",
              "\n",
              "          const docLinkHtml = 'Like what you see? Visit the ' +\n",
              "            '<a target=\"_blank\" href=https://colab.research.google.com/notebooks/data_table.ipynb>data table notebook</a>'\n",
              "            + ' to learn more about interactive tables.';\n",
              "          element.innerHTML = '';\n",
              "          dataTable['output_type'] = 'display_data';\n",
              "          await google.colab.output.renderOutput(dataTable, element);\n",
              "          const docLink = document.createElement('div');\n",
              "          docLink.innerHTML = docLinkHtml;\n",
              "          element.appendChild(docLink);\n",
              "        }\n",
              "      </script>\n",
              "    </div>\n",
              "  </div>\n",
              "  "
            ]
          },
          "metadata": {},
          "execution_count": 9
        }
      ]
    },
    {
      "cell_type": "code",
      "source": [
        "dados_final.shape"
      ],
      "metadata": {
        "id": "VzzvknzZcQt7",
        "colab": {
          "base_uri": "https://localhost:8080/"
        },
        "outputId": "5e03ebe5-64f5-49ce-a3ea-bf7ba62c294f"
      },
      "execution_count": null,
      "outputs": [
        {
          "output_type": "execute_result",
          "data": {
            "text/plain": [
              "(7043, 39)"
            ]
          },
          "metadata": {},
          "execution_count": 10
        }
      ]
    },
    {
      "cell_type": "code",
      "source": [
        "Xmaria = [[0,0,1,1,0,0,39.90,1,0,0,0,1,0,1,0,0,0,0,1,1,1,0,0,1,0,1,0,0,0,0,1,0,0,1,0,0,0,1]]#dados da cliente que precisamos calcular o churn\n"
      ],
      "metadata": {
        "id": "NsvGKMQDb8ST"
      },
      "execution_count": null,
      "outputs": []
    },
    {
      "cell_type": "markdown",
      "source": [
        "#Balanceamento "
      ],
      "metadata": {
        "id": "Zo5T58JZkBW7"
      }
    },
    {
      "cell_type": "code",
      "source": [
        "import seaborn as sns\n",
        "%matplotlib inline\n",
        "\n",
        "ax = sns.countplot(x='Churn', data=dados_final)"
      ],
      "metadata": {
        "id": "flEtHQsBjnAe",
        "colab": {
          "base_uri": "https://localhost:8080/",
          "height": 449
        },
        "outputId": "2c02442d-1bcc-489a-bf8e-40c07c833a78"
      },
      "execution_count": null,
      "outputs": [
        {
          "output_type": "display_data",
          "data": {
            "text/plain": [
              "<Figure size 640x480 with 1 Axes>"
            ],
            "image/png": "[encoded data removed]"
          },
          "metadata": {}
        }
      ]
    },
    {
      "cell_type": "markdown",
      "source": [
        "Analisando o gráfico, podemos perceber que nossa variável está desbalanceada e precisamos tratar isso. Para realizar o balanceamento dos dados, utilizaremos uma técnica chamada de Oversampling, que consiste em realizar a criação de novas observações da classe quando há menos amostras, tendo como objetivo igualar a proporção entre as categorias.\n",
        "\n",
        "Uma das técnicas de oversampling muito utilizada é a SMOTE. Sua ideia consiste em criar observações intermediárias entre os dados que estão próximos. Por exemplo, se minutos totais por dia são 129.1 e 146.3, então será criada uma amostra com os minutos totais por dia com 137.7. Lembrando que não é necessariamente a média entre as amostras."
      ],
      "metadata": {
        "id": "v0abompMkRfl"
      }
    },
    {
      "cell_type": "code",
      "source": [
        "# Para podermos aplicar o SMOTE, devemos separar  os dados em variáveis características e resposta  \n",
        "\n",
        "X = dados_final.drop('Churn', axis = 1)\n",
        "y = dados_final['Churn']\n",
        "type(y)"
      ],
      "metadata": {
        "id": "h7WQtUOdj6lt",
        "colab": {
          "base_uri": "https://localhost:8080/"
        },
        "outputId": "d56ad34d-9f4a-445a-b0d7-459418197ae0"
      },
      "execution_count": null,
      "outputs": [
        {
          "output_type": "execute_result",
          "data": {
            "text/plain": [
              "pandas.core.series.Series"
            ]
          },
          "metadata": {},
          "execution_count": 13
        }
      ]
    },
    {
      "cell_type": "code",
      "source": [
        "from imblearn.over_sampling import SMOTE\n",
        "\n",
        "smt = SMOTE(random_state=123)# Instancia um objeto da classe SMOTE\n",
        "X, y = smt.fit_resample(X,y)# Realiza a reamostragem do conjunto de dados"
      ],
      "metadata": {
        "id": "7-iJQOZikuOo"
      },
      "execution_count": null,
      "outputs": []
    },
    {
      "cell_type": "code",
      "source": [
        "dados_final = pd.concat([X, y], axis=1)# Concatena a variável target (y) com as features (X)\n",
        "\n",
        "# Verifica se o balanceamento e a concatenação estão corretos.\n",
        "dados_final.head(2)"
      ],
      "metadata": {
        "id": "vYNoEAxQlgrA",
        "colab": {
          "base_uri": "https://localhost:8080/",
          "height": 176
        },
        "outputId": "d899e8a8-94de-41a7-a2fa-77cd7c624914"
      },
      "execution_count": null,
      "outputs": [
        {
          "output_type": "execute_result",
          "data": {
            "text/plain": [
              "   Conjuge  Dependentes  TelefoneFixo  PagamentoOnline  Maior65Anos  \\\n",
              "0        1            0             0                1            0   \n",
              "1        0            0             1                0            0   \n",
              "\n",
              "   MesesDeContrato  ContaMensal  VariasLinhasTelefonicas_Nao  \\\n",
              "0                1        29.85                            0   \n",
              "1               34        56.95                            1   \n",
              "\n",
              "   VariasLinhasTelefonicas_SemServicoTelefonico  VariasLinhasTelefonicas_Sim  \\\n",
              "0                                             1                            0   \n",
              "1                                             0                            0   \n",
              "\n",
              "   ServicoDeInternet_DSL  ServicoDeInternet_FibraOptica  \\\n",
              "0                      1                              0   \n",
              "1                      1                              0   \n",
              "\n",
              "   ServicoDeInternet_Nao  SegurancaOnline_Nao  \\\n",
              "0                      0                    1   \n",
              "1                      0                    0   \n",
              "\n",
              "   SegurancaOnline_SemServicoDeInternet  SegurancaOnline_Sim  \\\n",
              "0                                     0                    0   \n",
              "1                                     0                    1   \n",
              "\n",
              "   BackupOnline_Nao  BackupOnline_SemServicoDeInternet  BackupOnline_Sim  \\\n",
              "0                 0                                  0                 1   \n",
              "1                 1                                  0                 0   \n",
              "\n",
              "   SeguroNoDispositivo_Nao  SeguroNoDispositivo_SemServicoDeInternet  \\\n",
              "0                        1                                         0   \n",
              "1                        0                                         0   \n",
              "\n",
              "   SeguroNoDispositivo_Sim  SuporteTecnico_Nao  \\\n",
              "0                        0                   1   \n",
              "1                        1                   1   \n",
              "\n",
              "   SuporteTecnico_SemServicoDeInternet  SuporteTecnico_Sim  TVaCabo_Nao  \\\n",
              "0                                    0                   0            1   \n",
              "1                                    0                   0            1   \n",
              "\n",
              "   TVaCabo_SemServicoDeInternet  TVaCabo_Sim  StreamingDeFilmes_Nao  \\\n",
              "0                             0            0                      1   \n",
              "1                             0            0                      1   \n",
              "\n",
              "   StreamingDeFilmes_SemServicoDeInternet  StreamingDeFilmes_Sim  \\\n",
              "0                                       0                      0   \n",
              "1                                       0                      0   \n",
              "\n",
              "   TipoDeContrato_DoisAnos  TipoDeContrato_Mensalmente  TipoDeContrato_UmAno  \\\n",
              "0                        0                           1                     0   \n",
              "1                        0                           0                     1   \n",
              "\n",
              "   FormaDePagamento_CartaoDeCredito  FormaDePagamento_ChequeDigital  \\\n",
              "0                                 0                               1   \n",
              "1                                 0                               0   \n",
              "\n",
              "   FormaDePagamento_ChequePapel  FormaDePagamento_DebitoEmConta  Churn  \n",
              "0                             0                               0      0  \n",
              "1                             1                               0      0  "
            ],
            "text/html": [
              "\n",
              "  <div id=\"df-6ed3cb5a-762d-457d-a05e-4a9958ce584c\">\n",
              "    <div class=\"colab-df-container\">\n",
              "      <div>\n",
              "<style scoped>\n",
              "    .dataframe tbody tr th:only-of-type {\n",
              "        vertical-align: middle;\n",
              "    }\n",
              "\n",
              "    .dataframe tbody tr th {\n",
              "        vertical-align: top;\n",
              "    }\n",
              "\n",
              "    .dataframe thead th {\n",
              "        text-align: right;\n",
              "    }\n",
              "</style>\n",
              "<table border=\"1\" class=\"dataframe\">\n",
              "  <thead>\n",
              "    <tr style=\"text-align: right;\">\n",
              "      <th></th>\n",
              "      <th>Conjuge</th>\n",
              "      <th>Dependentes</th>\n",
              "      <th>TelefoneFixo</th>\n",
              "      <th>PagamentoOnline</th>\n",
              "      <th>Maior65Anos</th>\n",
              "      <th>MesesDeContrato</th>\n",
              "      <th>ContaMensal</th>\n",
              "      <th>VariasLinhasTelefonicas_Nao</th>\n",
              "      <th>VariasLinhasTelefonicas_SemServicoTelefonico</th>\n",
              "      <th>VariasLinhasTelefonicas_Sim</th>\n",
              "      <th>ServicoDeInternet_DSL</th>\n",
              "      <th>ServicoDeInternet_FibraOptica</th>\n",
              "      <th>ServicoDeInternet_Nao</th>\n",
              "      <th>SegurancaOnline_Nao</th>\n",
              "      <th>SegurancaOnline_SemServicoDeInternet</th>\n",
              "      <th>SegurancaOnline_Sim</th>\n",
              "      <th>BackupOnline_Nao</th>\n",
              "      <th>BackupOnline_SemServicoDeInternet</th>\n",
              "      <th>BackupOnline_Sim</th>\n",
              "      <th>SeguroNoDispositivo_Nao</th>\n",
              "      <th>SeguroNoDispositivo_SemServicoDeInternet</th>\n",
              "      <th>SeguroNoDispositivo_Sim</th>\n",
              "      <th>SuporteTecnico_Nao</th>\n",
              "      <th>SuporteTecnico_SemServicoDeInternet</th>\n",
              "      <th>SuporteTecnico_Sim</th>\n",
              "      <th>TVaCabo_Nao</th>\n",
              "      <th>TVaCabo_SemServicoDeInternet</th>\n",
              "      <th>TVaCabo_Sim</th>\n",
              "      <th>StreamingDeFilmes_Nao</th>\n",
              "      <th>StreamingDeFilmes_SemServicoDeInternet</th>\n",
              "      <th>StreamingDeFilmes_Sim</th>\n",
              "      <th>TipoDeContrato_DoisAnos</th>\n",
              "      <th>TipoDeContrato_Mensalmente</th>\n",
              "      <th>TipoDeContrato_UmAno</th>\n",
              "      <th>FormaDePagamento_CartaoDeCredito</th>\n",
              "      <th>FormaDePagamento_ChequeDigital</th>\n",
              "      <th>FormaDePagamento_ChequePapel</th>\n",
              "      <th>FormaDePagamento_DebitoEmConta</th>\n",
              "      <th>Churn</th>\n",
              "    </tr>\n",
              "  </thead>\n",
              "  <tbody>\n",
              "    <tr>\n",
              "      <th>0</th>\n",
              "      <td>1</td>\n",
              "      <td>0</td>\n",
              "      <td>0</td>\n",
              "      <td>1</td>\n",
              "      <td>0</td>\n",
              "      <td>1</td>\n",
              "      <td>29.85</td>\n",
              "      <td>0</td>\n",
              "      <td>1</td>\n",
              "      <td>0</td>\n",
              "      <td>1</td>\n",
              "      <td>0</td>\n",
              "      <td>0</td>\n",
              "      <td>1</td>\n",
              "      <td>0</td>\n",
              "      <td>0</td>\n",
              "      <td>0</td>\n",
              "      <td>0</td>\n",
              "      <td>1</td>\n",
              "      <td>1</td>\n",
              "      <td>0</td>\n",
              "      <td>0</td>\n",
              "      <td>1</td>\n",
              "      <td>0</td>\n",
              "      <td>0</td>\n",
              "      <td>1</td>\n",
              "      <td>0</td>\n",
              "      <td>0</td>\n",
              "      <td>1</td>\n",
              "      <td>0</td>\n",
              "      <td>0</td>\n",
              "      <td>0</td>\n",
              "      <td>1</td>\n",
              "      <td>0</td>\n",
              "      <td>0</td>\n",
              "      <td>1</td>\n",
              "      <td>0</td>\n",
              "      <td>0</td>\n",
              "      <td>0</td>\n",
              "    </tr>\n",
              "    <tr>\n",
              "      <th>1</th>\n",
              "      <td>0</td>\n",
              "      <td>0</td>\n",
              "      <td>1</td>\n",
              "      <td>0</td>\n",
              "      <td>0</td>\n",
              "      <td>34</td>\n",
              "      <td>56.95</td>\n",
              "      <td>1</td>\n",
              "      <td>0</td>\n",
              "      <td>0</td>\n",
              "      <td>1</td>\n",
              "      <td>0</td>\n",
              "      <td>0</td>\n",
              "      <td>0</td>\n",
              "      <td>0</td>\n",
              "      <td>1</td>\n",
              "      <td>1</td>\n",
              "      <td>0</td>\n",
              "      <td>0</td>\n",
              "      <td>0</td>\n",
              "      <td>0</td>\n",
              "      <td>1</td>\n",
              "      <td>1</td>\n",
              "      <td>0</td>\n",
              "      <td>0</td>\n",
              "      <td>1</td>\n",
              "      <td>0</td>\n",
              "      <td>0</td>\n",
              "      <td>1</td>\n",
              "      <td>0</td>\n",
              "      <td>0</td>\n",
              "      <td>0</td>\n",
              "      <td>0</td>\n",
              "      <td>1</td>\n",
              "      <td>0</td>\n",
              "      <td>0</td>\n",
              "      <td>1</td>\n",
              "      <td>0</td>\n",
              "      <td>0</td>\n",
              "    </tr>\n",
              "  </tbody>\n",
              "</table>\n",
              "</div>\n",
              "      <button class=\"colab-df-convert\" onclick=\"convertToInteractive('df-6ed3cb5a-762d-457d-a05e-4a9958ce584c')\"\n",
              "              title=\"Convert this dataframe to an interactive table.\"\n",
              "              style=\"display:none;\">\n",
              "        \n",
              "  <svg xmlns=\"http://www.w3.org/2000/svg\" height=\"24px\"viewBox=\"0 0 24 24\"\n",
              "       width=\"24px\">\n",
              "    <path d=\"M0 0h24v24H0V0z\" fill=\"none\"/>\n",
              "    <path d=\"M18.56 5.44l.94 2.06.94-2.06 2.06-.94-2.06-.94-.94-2.06-.94 2.06-2.06.94zm-11 1L8.5 8.5l.94-2.06 2.06-.94-2.06-.94L8.5 2.5l-.94 2.06-2.06.94zm10 10l.94 2.06.94-2.06 2.06-.94-2.06-.94-.94-2.06-.94 2.06-2.06.94z\"/><path d=\"M17.41 7.96l-1.37-1.37c-.4-.4-.92-.59-1.43-.59-.52 0-1.04.2-1.43.59L10.3 9.45l-7.72 7.72c-.78.78-.78 2.05 0 2.83L4 21.41c.39.39.9.59 1.41.59.51 0 1.02-.2 1.41-.59l7.78-7.78 2.81-2.81c.8-.78.8-2.07 0-2.86zM5.41 20L4 18.59l7.72-7.72 1.47 1.35L5.41 20z\"/>\n",
              "  </svg>\n",
              "      </button>\n",
              "      \n",
              "  <style>\n",
              "    .colab-df-container {\n",
              "      display:flex;\n",
              "      flex-wrap:wrap;\n",
              "      gap: 12px;\n",
              "    }\n",
              "\n",
              "    .colab-df-convert {\n",
              "      background-color: #E8F0FE;\n",
              "      border: none;\n",
              "      border-radius: 50%;\n",
              "      cursor: pointer;\n",
              "      display: none;\n",
              "      fill: #1967D2;\n",
              "      height: 32px;\n",
              "      padding: 0 0 0 0;\n",
              "      width: 32px;\n",
              "    }\n",
              "\n",
              "    .colab-df-convert:hover {\n",
              "      background-color: #E2EBFA;\n",
              "      box-shadow: 0px 1px 2px rgba(60, 64, 67, 0.3), 0px 1px 3px 1px rgba(60, 64, 67, 0.15);\n",
              "      fill: #174EA6;\n",
              "    }\n",
              "\n",
              "    [theme=dark] .colab-df-convert {\n",
              "      background-color: #3B4455;\n",
              "      fill: #D2E3FC;\n",
              "    }\n",
              "\n",
              "    [theme=dark] .colab-df-convert:hover {\n",
              "      background-color: #434B5C;\n",
              "      box-shadow: 0px 1px 3px 1px rgba(0, 0, 0, 0.15);\n",
              "      filter: drop-shadow(0px 1px 2px rgba(0, 0, 0, 0.3));\n",
              "      fill: #FFFFFF;\n",
              "    }\n",
              "  </style>\n",
              "\n",
              "      <script>\n",
              "        const buttonEl =\n",
              "          document.querySelector('#df-6ed3cb5a-762d-457d-a05e-4a9958ce584c button.colab-df-convert');\n",
              "        buttonEl.style.display =\n",
              "          google.colab.kernel.accessAllowed ? 'block' : 'none';\n",
              "\n",
              "        async function convertToInteractive(key) {\n",
              "          const element = document.querySelector('#df-6ed3cb5a-762d-457d-a05e-4a9958ce584c');\n",
              "          const dataTable =\n",
              "            await google.colab.kernel.invokeFunction('convertToInteractive',\n",
              "                                                     [key], {});\n",
              "          if (!dataTable) return;\n",
              "\n",
              "          const docLinkHtml = 'Like what you see? Visit the ' +\n",
              "            '<a target=\"_blank\" href=https://colab.research.google.com/notebooks/data_table.ipynb>data table notebook</a>'\n",
              "            + ' to learn more about interactive tables.';\n",
              "          element.innerHTML = '';\n",
              "          dataTable['output_type'] = 'display_data';\n",
              "          await google.colab.output.renderOutput(dataTable, element);\n",
              "          const docLink = document.createElement('div');\n",
              "          docLink.innerHTML = docLinkHtml;\n",
              "          element.appendChild(docLink);\n",
              "        }\n",
              "      </script>\n",
              "    </div>\n",
              "  </div>\n",
              "  "
            ]
          },
          "metadata": {},
          "execution_count": 15
        }
      ]
    },
    {
      "cell_type": "code",
      "source": [
        "ax = sns.countplot(x='Churn', data=dados_final)# plotando a variável target balanceada."
      ],
      "metadata": {
        "id": "pIqNKdqIlwx1",
        "colab": {
          "base_uri": "https://localhost:8080/",
          "height": 449
        },
        "outputId": "875b07a0-5938-461c-8741-9c390999be3c"
      },
      "execution_count": null,
      "outputs": [
        {
          "output_type": "display_data",
          "data": {
            "text/plain": [
              "<Figure size 640x480 with 1 Axes>"
            ],
            "image/png": "[encoded data removed]"
          },
          "metadata": {}
        }
      ]
    },
    {
      "cell_type": "markdown",
      "source": [
        "#KNN"
      ],
      "metadata": {
        "id": "-oAinjBHqhGs"
      }
    },
    {
      "cell_type": "markdown",
      "source": [
        "No algoritmo KNN, para que seja feita a classificação dos registros com base nos vizinhos mais próximos, é necessário utilizar alguma medida para identificar o quão próximo o registro está dos seus vizinhos. Existem diversas medidas para se avaliar essa proximidade entre variáveis numéricas que recebem o nome de medidas de distância. Quanto maior o valor dessa medida, mais distante um elemento está do outro, ou seja, menor a similaridade entre eles.\n",
        "\n",
        "* Distância Euclidiana\n",
        "A medida de distância mais conhecida e mais utilizada é a distância euclidiana. Ela consiste em subtrair as coordenadas de uma observação pela outra observação, elevar ao quadrado os resultados, somar todos os valores e extrair a raiz quadrada.\n",
        "\n",
        "\n",
        "> ![image.png](data:image/png;base64,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)\n",
        "\n",
        "\n",
        "\n",
        "* Distância de Manhattan\n",
        "Uma distância que considera apenas a soma dos módulos das diferenças entre cada par de coordenadas.\n",
        "\n",
        ">![image.png](data:image/png;base64,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)\n",
        "\n",
        "* Distância de Minkowski\n",
        "Uma medida de distância que é a generalização de outras distâncias, como a distância euclidiana e a de Manhattan. Consiste em extrair o módulo da diferença entre cada par de coordenadas elevando o resultado a m, realizar a soma de todos os termos e, por fim, tirar a raiz m-ésima, em que m é um número qualquer. A distância euclidiana é um caso à parte quando m é igual a 2 e a distância de Manhattan é um caso à parte quando m é igual a 1.\n",
        "\n",
        ">![image.png](data:image/png;base64,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)\n",
        "\n",
        "* Distância de Chebyshev\n",
        "É uma medida de distância que considera apenas o valor máximo entre os módulos das diferenças entre as variáveis. Dessa forma, leva em consideração apenas a variável que possui a maior diferença de valores entre as duas observações.\n",
        "\n",
        "> ![image.png](data:image/png;base64,iVBORw0KGgoAAAANSUhEUgAAAagAAABeCAYAAAB2DoBwAAAAAXNSR0IArs4c6QAAAARnQU1BAACxjwv8YQUAAAAJcEhZcwAADsMAAA7DAcdvqGQAAA14SURBVHhe7d3dqxXVH8fx8XevpXUl4UV6oRgYWRnpERR8SCUMDHu6CAzleCUKikdFJZ+OQhciZRHkRWqK0gMVqaBRGj6UFiZdqBXSZWL5D5zffNaZ72EaZ8/Ze5/98N2z3y8Y1zmz99kza/aa9V2z1ppx1EAsAgDAmf8lKQAArhCgAAAuEaAAAC4RoAAALhGgAAAuEaAAAC4RoAAALhGgAAAuEaAAAC4RoAAALhGgAAAuEaAAAC4RoAAALhGgAAAuEaAAAC4RoAAALhGgAAAuEaAAAC4RoAAALhGgAAAuEaAAAC4RoAAALhGgAAAuEaAAAC4RoAAALhGgAAAuEaAAAC4RoAAALhGgAAAuEaAAAC4RoAAALhGgAAAuEaAAAC4RoAAALhGgUOjnn3+Otm3bFn377bfJGozUn3/+yTEFquA6QO3duzcaNWrU0HL+/Pnkle7x/vvvD+W/WT755JNo4cKF0bhx4x7YjgLU9u3bqUwbyI7p559/nqzpPDoXVVZUbtA8eee+HftJkyZFr7zySqnrRdcBav369dHRo0eT36JoypQpyU/d4e7du9HGjRvDz729vSFtJH3+M888E7366qvR3Llzox9//DEaGBhIXq3O77//Hk4UO5G0pCstO5nSiwKidxasbcmriNOva1GDCoPKWi6MAkN2/7OU3/TrjQrms2bNCufpyZMno3/++Sfq6emJVq9enbxaMnFGXfv+++9VYw5MnDgxWdM9li9fHvIeB6dkTWP19/eHz1dayUcffRTes3Xr1mTNg27fvh3eo2XBggUDf//9d/LKoL6+vqHXDx48mKz1Lb7KGRg7dmzYZ5W9bJ7kq6++GspXLd/Rp59+Gv5mzZo1yZrOY+elvu9KylgujPLy9NNPD+2/ykuW3mOv6715ZWg49vdFVD71Hn0nZeN+DOr+/fshnT9/fki7hVqYx44dC1dO7777brK2sT744IOQxpVHSOv1+OOPD13hTZ8+PXrkkUfCz1lxJRStWrUq+c23adOmhVay6EqgUp6kmd9RJytjuTDKy7p165LfBstLJXFwir755pvCMjQSK1euDOmRI0dCWibuA9Svv/4a0qICUEajR49uesUXt3BD2ohju2TJkpCePn06pOaXX36Jdu3aFfLSaZWQ5enWrVshzYqvKkPl8/bbbydrkFXGcmHmzZuX/DTYpZn1zjvvRPFVePThhx82LTjJ888/H9K8feh07gPU2bNnQ/rcc8+FtFsoaHRSq3zRokXhZNQ4lp0oGuOaM2dOqMQ78QrD8qRAnj35Nd6k9brKbWbl0+nKWC6Mvvfly5eHny9fvhxSox4QBeCPP/646Y1r62UqIzcBSi0qDfTZ4LS6VVQJnDp1Krzu7QpKBdAGSrXPX3/9dVivkzCdD71HJ6ToPZqUYPnLGxTWe7Vef5ceqE9/Tpr2wwZj9Zk6jmmbNm0Kr2m7lWT/pl7WJXbmzJmQar+UB3VvdCrrWk5XQDpeGzZsCJWPurFQrIzlwijQynfffRdS0Xn65ptvRn19fSFAN5v1MpWyLCZjUW119OjRoYFEG+hLD1IXDcTmscH/epaiCQNG+6h91SCwDZRrH7XPSrVeA6I2eKkB4N7e3rBovQ0wK39p+izLsx0HfZY+U+s0aSJNn2Xbs/1Ivyc9CJ13DO1zdfwrqWaShFH+9V4dG21beckbPO4kVjb13Yl9r9WUk0q6ZZKEKWO5MDr3lLf0JC6dg9Ucl2ros7UUsclUnTbRpBptD1BWePNmSlkFqkJdi2YHqDQ7UXXyaX/TebD91wlpFZyx7aXZfmfza8co+/4sbUeL2H6pgtXn5uXLtleU51oClFhQ1mJBtpNZBWTHVd/NSCufbgtQUrZykWZ503lqjcxsXVYvO2ZFrJ4p23GVtnfxvfXWWyHdsWNHxb78mTNnJj9VR/dPxXmra9Hf1sL6f9XHHlf0uXlQd0a6r73SYKYGO/UZK1asSNYMqrZ7U91R9+7dC11QL774YriHTN0rylNevv7999+QTpgwIaSNEAfqkKpvXvdrdDp1myhPOq7qcn7vvfeiw4cPJ6+iWmUrF2nKkxw/fjx64403oi+++KKl45IPP/xw8lMJxZVy21i3VPryOM1aJmrFeqUWtfYxe4Uktv/ZLjTLt666qqX3aylqJdkVkbabtz9p1tIbbh9quYKy7jAtdsXRLJbXepaiK8Y89h1raUTXVLddQbWyXBjbv3qWWq+Q7XzW0uhuNvvcIiqTdi57rivr0dYrqC+//DKk1gJJ00BjfLDDDCDPg38//fRTSG06rUnvvw0SmwsXLoS00r1dugJSa12DyXY3fjVsuqkUzY7S5y5evDh69tlnoytXriRrR0b7rCdS6J4WfZ+64uikJwMUeeihh0KqfHmbrONdmcuFGTNmTEh1rrdjyrzKpHpwdGzjxmmpnmjS1gBllWNeF57N+PF+g67NMpwxY0ZIzaVLl0KqIJBl94Rk862gpmD25JNPhgeKbt68OXxO3JBI3lHshx9+CKmCWhHNnlL3n2amNeIRKdpvzWaKr9rCCbp06dKw/rPPPgtpEVVW2l/NRqxFK7tx7VYHm7FVic3gVAMAIysXI2WPA6pnqXV2oZ137aqrVO7UhaoAGV9N1Vy+XYu/kLbR5rXkdVvZwF+t3THSqu4f60bI66K0fch+ngZPbVvZgVR1y2l9XjeB/U2lLr50l53eVw3rusp2QaYN18WnPGibWiw/RXk0yod9x1oq5csDHdeifVQe9T3b+4brIuqGLr56y0Uniq8MQ55qqTuqZceriNUbqgPKxuWNumpN25VJutvKmxs3boQ0r+Vkre4nnngipOa3334LaXziPjCQqgF4WbZsWUhNpUkVRt0oNjhr9ztVc0ViXVd37twJaT22bNkSujLTd8srtW7bEydOhDRNXRCaFKMrxDhIJmt90rFV14nkDe7rKsGuntXNgkH1lAuVc/Ug2H1/onJs9w56vTK1HpFKdZX+RwL1EmiylPKjMqP7E/W7FruHsl5WP1hXY5m0NUCpks7Sl6eb3Kwgjx8/PqS1aFX3z7lz50KaNy5hN3ZOnjw5pMaCmvqKK7HuQZNXiduJqwrUulFUgdq+2HaKWBC1QFUrm9W2e/fuB47BU089FVJVUFmapahuFO1vvdtulYsXL4Y0vlIIaZYqXX1fKjeNGCtVJazKeLhKS9+/3qcl3RipdX1WtdsvUm+50Dmvp/ervOsJHdoHPV9OZUXr1Ggt2vd2GK4Boy5svUdlRO9Td+Drr78evfDCC9HNmzfDuv379yfvHpm//vor+ak82hqgXn755ZAeOHAgpCp8+vLsMfJG63XiKHh5Yi3mqVOnhtRYoVWfcLbSSlfIyo9OZhvUVJARXQ2phaX1anmp794qSJvWrgCk7Wu8SsFu586dYb09H2zfvn0hVetNn5XHnjGX3f9q6MTT0xSkaGBY+5itVKxF7Z1apnYcdawqlb9m5MeeDtAu9W5/JOVCY9LpgKbJRJrso+PrsSGj8qAgbHTeZ+lKMD1hSQ9o7u/vD8GsUeVG/1WOXL9+PaRl0tYApVanKmW1lnSpq9aS7jFRIX3ppZfCe1T5KoCpO8hTxabCqS4MybacrBsvb4KEAoiCjfJsXUN235MeOqrjoeCm53hdvXo1OnTo0H9mASp4qRKwe5j0WelBXQVEtTa1bzqm6r5bu3Zt8up/2f7X+v9sKXBqZpbJTrRQUNyzZ0/yWxTuyco7eT3T96uyZ8dI6aOPPhp+boVs13Cr1bP9RpULzYxV4y5dbjVpSDz9n3BqNOs8NmosVrrCszpBTx63IGxdc3rS+0hY8LYZxaUygK6lr3+4IlDrkyRqZZNJPE+SqIXyUmnigCmaJKH1mmzRrkkE1W5/uEkSI6HP1cSDNE1E0oSLTmXlPH0fnd0fVjS5Qa9rKdLM76LdXE6SALqRrjB05aCxzXb0FrR7+2JXIDZWJbrS0BVs0QOPvbPx3nQXpj1gNjtOXasyjj0ZAlQXs0kqlbol0FqaOKDgkJ1Y0Crt3r7YPUXpGXE24Wj27Nkh7USa4KHu+DTN/lM38kgn19jYk41FlQkBqovZcxBtkkqrqWVsLUurmDqZxgZFEypsfKEW2UkCrdbu7YvGXSU9rmu3QTz22GPhGDfi5vJWsnG2bADRVaEmQWm8U1eH9ZQZ/a2Ng2VvTymFpKsPXcpu8lManzDJ2v+6du3awB9//JH8NnLWZ563dGI/uvY5Ly9aKo2t6Zhq6VTNGvfQ+Fd2rEnlUmNQeq2vr6/jbvLVjfc6VtmxJhuXUn4rlRMrR3n0efpbvV50s30nG6V/4gyii6lVqtmC6krRDEKKBOCXuuR7enpC96AeEvDaa6/l3oNVBgQoAIBLjEEBAFwiQAEAXCJAAQBcIkABAFwiQAEAXCJAAQBcIkABAFwiQAEAXCJAAQBcIkABAFwiQAEAXCJAAQBcIkABAFwiQAEAXCJAAQBcIkABAFwiQAEAXCJAAQBcIkABAFwiQAEAXCJAAQBcIkABAFwiQAEAXCJAAQBcIkABAFwiQAEAXCJAAQBcIkABAFwiQAEAXCJAAQBcIkABAFwiQAEAXCJAAQAciqL/A/baDmNC/mU7AAAAAElFTkSuQmCC)\n",
        "\n"
      ],
      "metadata": {
        "id": "8ndJnQzlw8IW"
      }
    },
    {
      "cell_type": "markdown",
      "source": [
        "\n",
        "\n",
        "---\n",
        "\n",
        "\n",
        "Existem diversas outras medidas de distância que podem ser calculadas e cada uma delas impacta diretamente no resultado do modelo. As distâncias apresentadas aqui podem ser utilizadas no algoritmo KNN do scikit-learn, sendo a distância de Minkowski a medida de distância padrão ao instanciar o algoritimo.\n",
        "\n",
        "Podemos modificar a medida de distância utilizando o argumento metric da função sklearn.neighbors.KNeighborsClassifier. Com base nas medidas que foram apresentadas no texto, o parâmetro pode receber os seguintes valores:\n",
        "\n",
        "* “euclidean” para a distância euclidiana;\n",
        "* “manhattan” para a distância de Manhattan;\n",
        "* “minkowski” para a distância de Minkowski;\n",
        "* “chebyshev” para a distância de Chebyshev."
      ],
      "metadata": {
        "id": "4eRpxuD8yFFi"
      }
    },
    {
      "cell_type": "code",
      "source": [
        "Xmaria# cliente a ter o churn identificado"
      ],
      "metadata": {
        "id": "wgJ6aMr2qghI",
        "colab": {
          "base_uri": "https://localhost:8080/"
        },
        "outputId": "e9d0c6bb-4295-4267-cb8e-abf05d2f7c26"
      },
      "execution_count": null,
      "outputs": [
        {
          "output_type": "execute_result",
          "data": {
            "text/plain": [
              "[[0,\n",
              "  0,\n",
              "  1,\n",
              "  1,\n",
              "  0,\n",
              "  0,\n",
              "  39.9,\n",
              "  1,\n",
              "  0,\n",
              "  0,\n",
              "  0,\n",
              "  1,\n",
              "  0,\n",
              "  1,\n",
              "  0,\n",
              "  0,\n",
              "  0,\n",
              "  0,\n",
              "  1,\n",
              "  1,\n",
              "  1,\n",
              "  0,\n",
              "  0,\n",
              "  1,\n",
              "  0,\n",
              "  1,\n",
              "  0,\n",
              "  0,\n",
              "  0,\n",
              "  0,\n",
              "  1,\n",
              "  0,\n",
              "  0,\n",
              "  1,\n",
              "  0,\n",
              "  0,\n",
              "  0,\n",
              "  1]]"
            ]
          },
          "metadata": {},
          "execution_count": 17
        }
      ]
    },
    {
      "cell_type": "code",
      "source": [
        "#divisão de inputs e outputs\n",
        "X = dados_final.drop('Churn', axis = 1)\n",
        "y = dados_final['Churn']"
      ],
      "metadata": {
        "id": "t6rTKqEKqjei"
      },
      "execution_count": null,
      "outputs": []
    },
    {
      "cell_type": "code",
      "source": [
        "from sklearn.preprocessing import StandardScaler"
      ],
      "metadata": {
        "id": "0qNX6f7VrrPB"
      },
      "execution_count": null,
      "outputs": []
    },
    {
      "cell_type": "code",
      "source": [
        "#normalizando o x\n",
        "norm = StandardScaler()\n",
        "\n",
        "X_normalizado = norm.fit_transform(X) \n",
        "X_normalizado"
      ],
      "metadata": {
        "id": "umU4ruxJrw-k",
        "colab": {
          "base_uri": "https://localhost:8080/"
        },
        "outputId": "220b27ba-2d40-433a-e86c-a5b0587a0cbf"
      },
      "execution_count": null,
      "outputs": [
        {
          "output_type": "execute_result",
          "data": {
            "text/plain": [
              "array([[ 1.26542767, -0.52771004, -3.06083934, ...,  1.30373042,\n",
              "        -0.47912706, -0.4360152 ],\n",
              "       [-0.79024667, -0.52771004,  0.32670777, ..., -0.76702973,\n",
              "         2.08712905, -0.4360152 ],\n",
              "       [-0.79024667, -0.52771004,  0.32670777, ..., -0.76702973,\n",
              "         2.08712905, -0.4360152 ],\n",
              "       ...,\n",
              "       [-0.79024667, -0.52771004,  0.32670777, ...,  1.30373042,\n",
              "        -0.47912706, -0.4360152 ],\n",
              "       [-0.79024667, -0.52771004,  0.32670777, ..., -0.76702973,\n",
              "        -0.47912706, -0.4360152 ],\n",
              "       [-0.79024667, -0.52771004,  0.32670777, ..., -0.76702973,\n",
              "        -0.47912706, -0.4360152 ]])"
            ]
          },
          "metadata": {},
          "execution_count": 20
        }
      ]
    },
    {
      "cell_type": "code",
      "source": [
        "X_normalizado[0]"
      ],
      "metadata": {
        "id": "XOMuYKiZr9Ez",
        "colab": {
          "base_uri": "https://localhost:8080/"
        },
        "outputId": "26c70ed4-9909-4748-88a6-9b953b533611"
      },
      "execution_count": null,
      "outputs": [
        {
          "output_type": "execute_result",
          "data": {
            "text/plain": [
              "array([ 1.26542767, -0.52771004, -3.06083934,  0.81482091, -0.41318358,\n",
              "       -1.10771815, -1.3217706 , -0.88447396,  3.18604176, -0.83366906,\n",
              "        1.51268338, -1.04386816, -0.44617598,  0.86827317, -0.44617598,\n",
              "       -0.51721942, -0.95834643, -0.44617598,  1.57389661,  1.04285807,\n",
              "       -0.44617598, -0.64211419,  0.87979784, -0.44617598, -0.52426638,\n",
              "        1.18690873, -0.44617598, -0.77707385,  1.20311799, -0.44617598,\n",
              "       -0.78976268, -0.44648735,  0.73788726, -0.41989297, -0.42576817,\n",
              "        1.30373042, -0.47912706, -0.4360152 ])"
            ]
          },
          "metadata": {},
          "execution_count": 21
        }
      ]
    },
    {
      "cell_type": "code",
      "source": [
        "Xmaria_normalizado = norm.transform(pd.DataFrame(Xmaria, columns = X.columns)) # Essa função só funciona em dados de duas dimensões\n",
        "Xmaria_normalizado"
      ],
      "metadata": {
        "id": "e1aQbBf6sM8y",
        "colab": {
          "base_uri": "https://localhost:8080/"
        },
        "outputId": "6a872f33-494c-4a5d-b88a-d09abb38136d"
      },
      "execution_count": null,
      "outputs": [
        {
          "output_type": "execute_result",
          "data": {
            "text/plain": [
              "array([[-0.79024667, -0.52771004,  0.32670777,  0.81482091, -0.41318358,\n",
              "        -1.14938255, -0.97236043,  1.13061554, -0.31386908, -0.83366906,\n",
              "        -0.66107688,  0.95797538, -0.44617598,  0.86827317, -0.44617598,\n",
              "        -0.51721942, -0.95834643, -0.44617598,  1.57389661,  1.04285807,\n",
              "         2.24126814, -0.64211419, -1.13662476,  2.24126814, -0.52426638,\n",
              "         1.18690873, -0.44617598, -0.77707385, -0.83117367, -0.44617598,\n",
              "         1.26620316, -0.44648735, -1.35522058,  2.38155929, -0.42576817,\n",
              "        -0.76702973, -0.47912706,  2.293498  ]])"
            ]
          },
          "metadata": {},
          "execution_count": 22
        }
      ]
    },
    {
      "cell_type": "markdown",
      "source": [
        "##Distência Euclidiana"
      ],
      "metadata": {
        "id": "0yqqUQPBtOal"
      }
    },
    {
      "cell_type": "markdown",
      "source": [
        "![imagem_2023-04-13_004735621.png](data:image/png;base64,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)\n",
        "\n"
      ],
      "metadata": {
        "id": "9hPoQm_FtjPL"
      }
    },
    {
      "cell_type": "code",
      "source": [
        "import numpy as np"
      ],
      "metadata": {
        "id": "VOonnUZltAjL"
      },
      "execution_count": null,
      "outputs": []
    },
    {
      "cell_type": "code",
      "source": [
        "a = Xmaria_normalizado"
      ],
      "metadata": {
        "id": "sgvNM2bnt1vQ"
      },
      "execution_count": null,
      "outputs": []
    },
    {
      "cell_type": "code",
      "source": [
        "b = X_normalizado[0]"
      ],
      "metadata": {
        "id": "s0eFikjYt50O"
      },
      "execution_count": null,
      "outputs": []
    },
    {
      "cell_type": "code",
      "source": [
        "#1 - subtração\n",
        "a - b"
      ],
      "metadata": {
        "id": "cuKX81ezukrU",
        "colab": {
          "base_uri": "https://localhost:8080/"
        },
        "outputId": "7c4f7991-7c57-4f15-8f08-c21afdbce28b"
      },
      "execution_count": null,
      "outputs": [
        {
          "output_type": "execute_result",
          "data": {
            "text/plain": [
              "array([[-2.05567434,  0.        ,  3.38754711,  0.        ,  0.        ,\n",
              "        -0.0416644 ,  0.34941017,  2.0150895 , -3.49991084,  0.        ,\n",
              "        -2.17376025,  2.00184354,  0.        ,  0.        ,  0.        ,\n",
              "         0.        ,  0.        ,  0.        ,  0.        ,  0.        ,\n",
              "         2.68744412,  0.        , -2.01642259,  2.68744412,  0.        ,\n",
              "         0.        ,  0.        ,  0.        , -2.03429166,  0.        ,\n",
              "         2.05596584,  0.        , -2.09310784,  2.80145225,  0.        ,\n",
              "        -2.07076016,  0.        ,  2.72951321]])"
            ]
          },
          "metadata": {},
          "execution_count": 26
        }
      ]
    },
    {
      "cell_type": "code",
      "source": [
        "# exponenciação\n",
        "np.square(a-b)"
      ],
      "metadata": {
        "id": "X5NVcaRnuwkN",
        "colab": {
          "base_uri": "https://localhost:8080/"
        },
        "outputId": "d43b24f7-2f42-40f4-bda4-d7dfeef93a95"
      },
      "execution_count": null,
      "outputs": [
        {
          "output_type": "execute_result",
          "data": {
            "text/plain": [
              "array([[4.22579699e+00, 0.00000000e+00, 1.14754754e+01, 0.00000000e+00,\n",
              "        0.00000000e+00, 1.73592202e-03, 1.22087466e-01, 4.06058568e+00,\n",
              "        1.22493759e+01, 0.00000000e+00, 4.72523363e+00, 4.00737757e+00,\n",
              "        0.00000000e+00, 0.00000000e+00, 0.00000000e+00, 0.00000000e+00,\n",
              "        0.00000000e+00, 0.00000000e+00, 0.00000000e+00, 0.00000000e+00,\n",
              "        7.22235589e+00, 0.00000000e+00, 4.06596007e+00, 7.22235589e+00,\n",
              "        0.00000000e+00, 0.00000000e+00, 0.00000000e+00, 0.00000000e+00,\n",
              "        4.13834258e+00, 0.00000000e+00, 4.22699553e+00, 0.00000000e+00,\n",
              "        4.38110042e+00, 7.84813473e+00, 0.00000000e+00, 4.28804763e+00,\n",
              "        0.00000000e+00, 7.45024235e+00]])"
            ]
          },
          "metadata": {},
          "execution_count": 27
        }
      ]
    },
    {
      "cell_type": "code",
      "source": [
        "# - somatorio\n",
        "np.sum(np.square(a-b))"
      ],
      "metadata": {
        "id": "js5kzhh2vfx0",
        "colab": {
          "base_uri": "https://localhost:8080/"
        },
        "outputId": "d948e9f4-dde8-4a01-e5a6-99da534eb74d"
      },
      "execution_count": null,
      "outputs": [
        {
          "output_type": "execute_result",
          "data": {
            "text/plain": [
              "91.7112036526817"
            ]
          },
          "metadata": {},
          "execution_count": 28
        }
      ]
    },
    {
      "cell_type": "code",
      "source": [
        "#Raiz\n",
        "np.sqrt(91.7112036526817)"
      ],
      "metadata": {
        "id": "5MpUg8aYv5AX",
        "colab": {
          "base_uri": "https://localhost:8080/"
        },
        "outputId": "f077a8bf-a455-4019-c9a8-7e2dfc316bfb"
      },
      "execution_count": null,
      "outputs": [
        {
          "output_type": "execute_result",
          "data": {
            "text/plain": [
              "9.576596663360199"
            ]
          },
          "metadata": {},
          "execution_count": 29
        }
      ]
    },
    {
      "cell_type": "code",
      "source": [
        "#completo\n",
        "np.sqrt(np.sum(np.square(a-b)))"
      ],
      "metadata": {
        "id": "v2-ulcRMv9cL",
        "colab": {
          "base_uri": "https://localhost:8080/"
        },
        "outputId": "a44f5752-22d1-4e24-8087-742ea3c3857a"
      },
      "execution_count": null,
      "outputs": [
        {
          "output_type": "execute_result",
          "data": {
            "text/plain": [
              "9.576596663360199"
            ]
          },
          "metadata": {},
          "execution_count": 30
        }
      ]
    },
    {
      "cell_type": "markdown",
      "source": [
        "##Treinos e testes"
      ],
      "metadata": {
        "id": "mgQYJj08FKp_"
      }
    },
    {
      "cell_type": "code",
      "source": [
        "#biblioteca para divisão de dados\n",
        "from sklearn.model_selection import train_test_split"
      ],
      "metadata": {
        "id": "BfzTmWSRy14s"
      },
      "execution_count": null,
      "outputs": []
    },
    {
      "cell_type": "code",
      "source": [
        "X_treino, X_teste, y_treino, y_teste = train_test_split(X_normalizado, y, test_size=0.3, random_state=123) "
      ],
      "metadata": {
        "id": "QghHGTk1zNuK"
      },
      "execution_count": null,
      "outputs": []
    },
    {
      "cell_type": "code",
      "source": [
        "y_treino"
      ],
      "metadata": {
        "colab": {
          "base_uri": "https://localhost:8080/"
        },
        "id": "wRBYF0_L0Qb_",
        "outputId": "91605f95-9782-4a31-c30d-881a333782a7"
      },
      "execution_count": null,
      "outputs": [
        {
          "output_type": "execute_result",
          "data": {
            "text/plain": [
              "4831    0\n",
              "5077    0\n",
              "9023    1\n",
              "4424    1\n",
              "5236    0\n",
              "       ..\n",
              "9785    1\n",
              "7763    1\n",
              "5218    0\n",
              "1346    1\n",
              "3582    0\n",
              "Name: Churn, Length: 7243, dtype: int64"
            ]
          },
          "metadata": {},
          "execution_count": 33
        }
      ]
    },
    {
      "cell_type": "code",
      "source": [
        "#biblioteca para criar o modelo\n",
        "from sklearn.neighbors import KNeighborsClassifier"
      ],
      "metadata": {
        "id": "F6DnK4S90aWQ"
      },
      "execution_count": null,
      "outputs": []
    },
    {
      "cell_type": "code",
      "source": [
        "#instanciar o modelo - por padrão são 5 vizinhos\n",
        "knn = KNeighborsClassifier(metric='euclidean')"
      ],
      "metadata": {
        "id": "8Cqc8Mpo04dm"
      },
      "execution_count": null,
      "outputs": []
    },
    {
      "cell_type": "code",
      "source": [
        "#treinando o modelo\n",
        "knn.fit(X_treino, y_treino)"
      ],
      "metadata": {
        "colab": {
          "base_uri": "https://localhost:8080/",
          "height": 75
        },
        "id": "ihW1m77z1G6d",
        "outputId": "77748ccf-6ee4-4c26-b6e2-2fd4b7340782"
      },
      "execution_count": null,
      "outputs": [
        {
          "output_type": "execute_result",
          "data": {
            "text/plain": [
              "KNeighborsClassifier(metric='euclidean')"
            ],
            "text/html": [
              "<style>#sk-container-id-1 {color: black;background-color: white;}#sk-container-id-1 pre{padding: 0;}#sk-container-id-1 div.sk-toggleable {background-color: white;}#sk-container-id-1 label.sk-toggleable__label {cursor: pointer;display: block;width: 100%;margin-bottom: 0;padding: 0.3em;box-sizing: border-box;text-align: center;}#sk-container-id-1 label.sk-toggleable__label-arrow:before {content: \"▸\";float: left;margin-right: 0.25em;color: #696969;}#sk-container-id-1 label.sk-toggleable__label-arrow:hover:before {color: black;}#sk-container-id-1 div.sk-estimator:hover label.sk-toggleable__label-arrow:before {color: black;}#sk-container-id-1 div.sk-toggleable__content {max-height: 0;max-width: 0;overflow: hidden;text-align: left;background-color: #f0f8ff;}#sk-container-id-1 div.sk-toggleable__content pre {margin: 0.2em;color: black;border-radius: 0.25em;background-color: #f0f8ff;}#sk-container-id-1 input.sk-toggleable__control:checked~div.sk-toggleable__content {max-height: 200px;max-width: 100%;overflow: auto;}#sk-container-id-1 input.sk-toggleable__control:checked~label.sk-toggleable__label-arrow:before {content: \"▾\";}#sk-container-id-1 div.sk-estimator input.sk-toggleable__control:checked~label.sk-toggleable__label {background-color: #d4ebff;}#sk-container-id-1 div.sk-label input.sk-toggleable__control:checked~label.sk-toggleable__label {background-color: #d4ebff;}#sk-container-id-1 input.sk-hidden--visually {border: 0;clip: rect(1px 1px 1px 1px);clip: rect(1px, 1px, 1px, 1px);height: 1px;margin: -1px;overflow: hidden;padding: 0;position: absolute;width: 1px;}#sk-container-id-1 div.sk-estimator {font-family: monospace;background-color: #f0f8ff;border: 1px dotted black;border-radius: 0.25em;box-sizing: border-box;margin-bottom: 0.5em;}#sk-container-id-1 div.sk-estimator:hover {background-color: #d4ebff;}#sk-container-id-1 div.sk-parallel-item::after {content: \"\";width: 100%;border-bottom: 1px solid gray;flex-grow: 1;}#sk-container-id-1 div.sk-label:hover label.sk-toggleable__label {background-color: #d4ebff;}#sk-container-id-1 div.sk-serial::before {content: \"\";position: absolute;border-left: 1px solid gray;box-sizing: border-box;top: 0;bottom: 0;left: 50%;z-index: 0;}#sk-container-id-1 div.sk-serial {display: flex;flex-direction: column;align-items: center;background-color: white;padding-right: 0.2em;padding-left: 0.2em;position: relative;}#sk-container-id-1 div.sk-item {position: relative;z-index: 1;}#sk-container-id-1 div.sk-parallel {display: flex;align-items: stretch;justify-content: center;background-color: white;position: relative;}#sk-container-id-1 div.sk-item::before, #sk-container-id-1 div.sk-parallel-item::before {content: \"\";position: absolute;border-left: 1px solid gray;box-sizing: border-box;top: 0;bottom: 0;left: 50%;z-index: -1;}#sk-container-id-1 div.sk-parallel-item {display: flex;flex-direction: column;z-index: 1;position: relative;background-color: white;}#sk-container-id-1 div.sk-parallel-item:first-child::after {align-self: flex-end;width: 50%;}#sk-container-id-1 div.sk-parallel-item:last-child::after {align-self: flex-start;width: 50%;}#sk-container-id-1 div.sk-parallel-item:only-child::after {width: 0;}#sk-container-id-1 div.sk-dashed-wrapped {border: 1px dashed gray;margin: 0 0.4em 0.5em 0.4em;box-sizing: border-box;padding-bottom: 0.4em;background-color: white;}#sk-container-id-1 div.sk-label label {font-family: monospace;font-weight: bold;display: inline-block;line-height: 1.2em;}#sk-container-id-1 div.sk-label-container {text-align: center;}#sk-container-id-1 div.sk-container {/* jupyter's `normalize.less` sets `[hidden] { display: none; }` but bootstrap.min.css set `[hidden] { display: none !important; }` so we also need the `!important` here to be able to override the default hidden behavior on the sphinx rendered scikit-learn.org. See: https://github.com/scikit-learn/scikit-learn/issues/21755 */display: inline-block !important;position: relative;}#sk-container-id-1 div.sk-text-repr-fallback {display: none;}</style><div id=\"sk-container-id-1\" class=\"sk-top-container\"><div class=\"sk-text-repr-fallback\"><pre>KNeighborsClassifier(metric=&#x27;euclidean&#x27;)</pre><b>In a Jupyter environment, please rerun this cell to show the HTML representation or trust the notebook. <br />On GitHub, the HTML representation is unable to render, please try loading this page with nbviewer.org.</b></div><div class=\"sk-container\" hidden><div class=\"sk-item\"><div class=\"sk-estimator sk-toggleable\"><input class=\"sk-toggleable__control sk-hidden--visually\" id=\"sk-estimator-id-1\" type=\"checkbox\" checked><label for=\"sk-estimator-id-1\" class=\"sk-toggleable__label sk-toggleable__label-arrow\">KNeighborsClassifier</label><div class=\"sk-toggleable__content\"><pre>KNeighborsClassifier(metric=&#x27;euclidean&#x27;)</pre></div></div></div></div></div>"
            ]
          },
          "metadata": {},
          "execution_count": 36
        }
      ]
    },
    {
      "cell_type": "code",
      "source": [
        "#testando o modelo\n",
        "predito_knn = knn.predict(X_teste)\n",
        "predito_knn"
      ],
      "metadata": {
        "colab": {
          "base_uri": "https://localhost:8080/"
        },
        "id": "_O6xdrgZ1fYI",
        "outputId": "b826ce24-9fe7-464f-ddcf-5155f91792f8"
      },
      "execution_count": null,
      "outputs": [
        {
          "output_type": "execute_result",
          "data": {
            "text/plain": [
              "array([1, 0, 0, ..., 0, 1, 1])"
            ]
          },
          "metadata": {},
          "execution_count": 37
        }
      ]
    },
    {
      "cell_type": "markdown",
      "source": [
        "#Bernoulli"
      ],
      "metadata": {
        "id": "LyX8qA42FYoZ"
      }
    },
    {
      "cell_type": "code",
      "source": [
        "#Bliblioteca para criarmos o modelo\n",
        "from sklearn.naive_bayes import BernoulliNB"
      ],
      "metadata": {
        "id": "C13AHzo6Fg6P"
      },
      "execution_count": null,
      "outputs": []
    },
    {
      "cell_type": "code",
      "source": [
        "np.median(X_treino)"
      ],
      "metadata": {
        "colab": {
          "base_uri": "https://localhost:8080/"
        },
        "id": "Z2dh5u3oF91n",
        "outputId": "d24a853f-4629-48e6-c5a1-aa4fdd8e0c23"
      },
      "execution_count": null,
      "outputs": [
        {
          "output_type": "execute_result",
          "data": {
            "text/plain": [
              "-0.4461759755508453"
            ]
          },
          "metadata": {},
          "execution_count": 39
        }
      ]
    },
    {
      "cell_type": "code",
      "source": [
        "#criando o modelo\n",
        "bnb = BernoulliNB()#parametro para converter os dados não binaários em binários"
      ],
      "metadata": {
        "id": "vdAI6EclFp7N"
      },
      "execution_count": null,
      "outputs": []
    },
    {
      "cell_type": "code",
      "source": [
        "bnb.fit(X_treino, y_treino)"
      ],
      "metadata": {
        "colab": {
          "base_uri": "https://localhost:8080/",
          "height": 75
        },
        "id": "99RZiiTpIiId",
        "outputId": "0667cf1c-f4dc-4acb-f1ae-2ccb4d02d219"
      },
      "execution_count": null,
      "outputs": [
        {
          "output_type": "execute_result",
          "data": {
            "text/plain": [
              "BernoulliNB()"
            ],
            "text/html": [
              "<style>#sk-container-id-2 {color: black;background-color: white;}#sk-container-id-2 pre{padding: 0;}#sk-container-id-2 div.sk-toggleable {background-color: white;}#sk-container-id-2 label.sk-toggleable__label {cursor: pointer;display: block;width: 100%;margin-bottom: 0;padding: 0.3em;box-sizing: border-box;text-align: center;}#sk-container-id-2 label.sk-toggleable__label-arrow:before {content: \"▸\";float: left;margin-right: 0.25em;color: #696969;}#sk-container-id-2 label.sk-toggleable__label-arrow:hover:before {color: black;}#sk-container-id-2 div.sk-estimator:hover label.sk-toggleable__label-arrow:before {color: black;}#sk-container-id-2 div.sk-toggleable__content {max-height: 0;max-width: 0;overflow: hidden;text-align: left;background-color: #f0f8ff;}#sk-container-id-2 div.sk-toggleable__content pre {margin: 0.2em;color: black;border-radius: 0.25em;background-color: #f0f8ff;}#sk-container-id-2 input.sk-toggleable__control:checked~div.sk-toggleable__content {max-height: 200px;max-width: 100%;overflow: auto;}#sk-container-id-2 input.sk-toggleable__control:checked~label.sk-toggleable__label-arrow:before {content: \"▾\";}#sk-container-id-2 div.sk-estimator input.sk-toggleable__control:checked~label.sk-toggleable__label {background-color: #d4ebff;}#sk-container-id-2 div.sk-label input.sk-toggleable__control:checked~label.sk-toggleable__label {background-color: #d4ebff;}#sk-container-id-2 input.sk-hidden--visually {border: 0;clip: rect(1px 1px 1px 1px);clip: rect(1px, 1px, 1px, 1px);height: 1px;margin: -1px;overflow: hidden;padding: 0;position: absolute;width: 1px;}#sk-container-id-2 div.sk-estimator {font-family: monospace;background-color: #f0f8ff;border: 1px dotted black;border-radius: 0.25em;box-sizing: border-box;margin-bottom: 0.5em;}#sk-container-id-2 div.sk-estimator:hover {background-color: #d4ebff;}#sk-container-id-2 div.sk-parallel-item::after {content: \"\";width: 100%;border-bottom: 1px solid gray;flex-grow: 1;}#sk-container-id-2 div.sk-label:hover label.sk-toggleable__label {background-color: #d4ebff;}#sk-container-id-2 div.sk-serial::before {content: \"\";position: absolute;border-left: 1px solid gray;box-sizing: border-box;top: 0;bottom: 0;left: 50%;z-index: 0;}#sk-container-id-2 div.sk-serial {display: flex;flex-direction: column;align-items: center;background-color: white;padding-right: 0.2em;padding-left: 0.2em;position: relative;}#sk-container-id-2 div.sk-item {position: relative;z-index: 1;}#sk-container-id-2 div.sk-parallel {display: flex;align-items: stretch;justify-content: center;background-color: white;position: relative;}#sk-container-id-2 div.sk-item::before, #sk-container-id-2 div.sk-parallel-item::before {content: \"\";position: absolute;border-left: 1px solid gray;box-sizing: border-box;top: 0;bottom: 0;left: 50%;z-index: -1;}#sk-container-id-2 div.sk-parallel-item {display: flex;flex-direction: column;z-index: 1;position: relative;background-color: white;}#sk-container-id-2 div.sk-parallel-item:first-child::after {align-self: flex-end;width: 50%;}#sk-container-id-2 div.sk-parallel-item:last-child::after {align-self: flex-start;width: 50%;}#sk-container-id-2 div.sk-parallel-item:only-child::after {width: 0;}#sk-container-id-2 div.sk-dashed-wrapped {border: 1px dashed gray;margin: 0 0.4em 0.5em 0.4em;box-sizing: border-box;padding-bottom: 0.4em;background-color: white;}#sk-container-id-2 div.sk-label label {font-family: monospace;font-weight: bold;display: inline-block;line-height: 1.2em;}#sk-container-id-2 div.sk-label-container {text-align: center;}#sk-container-id-2 div.sk-container {/* jupyter's `normalize.less` sets `[hidden] { display: none; }` but bootstrap.min.css set `[hidden] { display: none !important; }` so we also need the `!important` here to be able to override the default hidden behavior on the sphinx rendered scikit-learn.org. See: https://github.com/scikit-learn/scikit-learn/issues/21755 */display: inline-block !important;position: relative;}#sk-container-id-2 div.sk-text-repr-fallback {display: none;}</style><div id=\"sk-container-id-2\" class=\"sk-top-container\"><div class=\"sk-text-repr-fallback\"><pre>BernoulliNB()</pre><b>In a Jupyter environment, please rerun this cell to show the HTML representation or trust the notebook. <br />On GitHub, the HTML representation is unable to render, please try loading this page with nbviewer.org.</b></div><div class=\"sk-container\" hidden><div class=\"sk-item\"><div class=\"sk-estimator sk-toggleable\"><input class=\"sk-toggleable__control sk-hidden--visually\" id=\"sk-estimator-id-2\" type=\"checkbox\" checked><label for=\"sk-estimator-id-2\" class=\"sk-toggleable__label sk-toggleable__label-arrow\">BernoulliNB</label><div class=\"sk-toggleable__content\"><pre>BernoulliNB()</pre></div></div></div></div></div>"
            ]
          },
          "metadata": {},
          "execution_count": 41
        }
      ]
    },
    {
      "cell_type": "code",
      "source": [
        "predito_Bnb = bnb.predict(X_teste)"
      ],
      "metadata": {
        "id": "pcn2pcqyKhCi"
      },
      "execution_count": null,
      "outputs": []
    },
    {
      "cell_type": "code",
      "source": [
        "predito_Bnb"
      ],
      "metadata": {
        "colab": {
          "base_uri": "https://localhost:8080/"
        },
        "id": "IZpaiUheKwQv",
        "outputId": "7b60e1f3-4624-4657-80de-bca339d49176"
      },
      "execution_count": null,
      "outputs": [
        {
          "output_type": "execute_result",
          "data": {
            "text/plain": [
              "array([1, 0, 0, ..., 1, 1, 1])"
            ]
          },
          "metadata": {},
          "execution_count": 43
        }
      ]
    },
    {
      "cell_type": "markdown",
      "source": [
        "##Decision Tree"
      ],
      "metadata": {
        "id": "XDz0JlLqWVkU"
      }
    },
    {
      "cell_type": "code",
      "source": [
        "#importando biblioteca para modelo de decision tree\n",
        "from sklearn.tree import DecisionTreeClassifier"
      ],
      "metadata": {
        "id": "oKMvlVYtKzV_"
      },
      "execution_count": null,
      "outputs": []
    },
    {
      "cell_type": "code",
      "source": [
        "#instanciando o modelo\n",
        "dtc =  DecisionTreeClassifier(criterion='entropy', random_state=42)"
      ],
      "metadata": {
        "id": "O8gRGz64Wn-Y"
      },
      "execution_count": null,
      "outputs": []
    },
    {
      "cell_type": "code",
      "source": [
        "dtc.fit(X_treino, y_treino)#treino do modelo"
      ],
      "metadata": {
        "colab": {
          "base_uri": "https://localhost:8080/",
          "height": 75
        },
        "id": "96-Q39HaXOdv",
        "outputId": "f9215a18-120d-4b89-dbf8-70ac58cb25d0"
      },
      "execution_count": null,
      "outputs": [
        {
          "output_type": "execute_result",
          "data": {
            "text/plain": [
              "DecisionTreeClassifier(criterion='entropy', random_state=42)"
            ],
            "text/html": [
              "<style>#sk-container-id-3 {color: black;background-color: white;}#sk-container-id-3 pre{padding: 0;}#sk-container-id-3 div.sk-toggleable {background-color: white;}#sk-container-id-3 label.sk-toggleable__label {cursor: pointer;display: block;width: 100%;margin-bottom: 0;padding: 0.3em;box-sizing: border-box;text-align: center;}#sk-container-id-3 label.sk-toggleable__label-arrow:before {content: \"▸\";float: left;margin-right: 0.25em;color: #696969;}#sk-container-id-3 label.sk-toggleable__label-arrow:hover:before {color: black;}#sk-container-id-3 div.sk-estimator:hover label.sk-toggleable__label-arrow:before {color: black;}#sk-container-id-3 div.sk-toggleable__content {max-height: 0;max-width: 0;overflow: hidden;text-align: left;background-color: #f0f8ff;}#sk-container-id-3 div.sk-toggleable__content pre {margin: 0.2em;color: black;border-radius: 0.25em;background-color: #f0f8ff;}#sk-container-id-3 input.sk-toggleable__control:checked~div.sk-toggleable__content {max-height: 200px;max-width: 100%;overflow: auto;}#sk-container-id-3 input.sk-toggleable__control:checked~label.sk-toggleable__label-arrow:before {content: \"▾\";}#sk-container-id-3 div.sk-estimator input.sk-toggleable__control:checked~label.sk-toggleable__label {background-color: #d4ebff;}#sk-container-id-3 div.sk-label input.sk-toggleable__control:checked~label.sk-toggleable__label {background-color: #d4ebff;}#sk-container-id-3 input.sk-hidden--visually {border: 0;clip: rect(1px 1px 1px 1px);clip: rect(1px, 1px, 1px, 1px);height: 1px;margin: -1px;overflow: hidden;padding: 0;position: absolute;width: 1px;}#sk-container-id-3 div.sk-estimator {font-family: monospace;background-color: #f0f8ff;border: 1px dotted black;border-radius: 0.25em;box-sizing: border-box;margin-bottom: 0.5em;}#sk-container-id-3 div.sk-estimator:hover {background-color: #d4ebff;}#sk-container-id-3 div.sk-parallel-item::after {content: \"\";width: 100%;border-bottom: 1px solid gray;flex-grow: 1;}#sk-container-id-3 div.sk-label:hover label.sk-toggleable__label {background-color: #d4ebff;}#sk-container-id-3 div.sk-serial::before {content: \"\";position: absolute;border-left: 1px solid gray;box-sizing: border-box;top: 0;bottom: 0;left: 50%;z-index: 0;}#sk-container-id-3 div.sk-serial {display: flex;flex-direction: column;align-items: center;background-color: white;padding-right: 0.2em;padding-left: 0.2em;position: relative;}#sk-container-id-3 div.sk-item {position: relative;z-index: 1;}#sk-container-id-3 div.sk-parallel {display: flex;align-items: stretch;justify-content: center;background-color: white;position: relative;}#sk-container-id-3 div.sk-item::before, #sk-container-id-3 div.sk-parallel-item::before {content: \"\";position: absolute;border-left: 1px solid gray;box-sizing: border-box;top: 0;bottom: 0;left: 50%;z-index: -1;}#sk-container-id-3 div.sk-parallel-item {display: flex;flex-direction: column;z-index: 1;position: relative;background-color: white;}#sk-container-id-3 div.sk-parallel-item:first-child::after {align-self: flex-end;width: 50%;}#sk-container-id-3 div.sk-parallel-item:last-child::after {align-self: flex-start;width: 50%;}#sk-container-id-3 div.sk-parallel-item:only-child::after {width: 0;}#sk-container-id-3 div.sk-dashed-wrapped {border: 1px dashed gray;margin: 0 0.4em 0.5em 0.4em;box-sizing: border-box;padding-bottom: 0.4em;background-color: white;}#sk-container-id-3 div.sk-label label {font-family: monospace;font-weight: bold;display: inline-block;line-height: 1.2em;}#sk-container-id-3 div.sk-label-container {text-align: center;}#sk-container-id-3 div.sk-container {/* jupyter's `normalize.less` sets `[hidden] { display: none; }` but bootstrap.min.css set `[hidden] { display: none !important; }` so we also need the `!important` here to be able to override the default hidden behavior on the sphinx rendered scikit-learn.org. See: https://github.com/scikit-learn/scikit-learn/issues/21755 */display: inline-block !important;position: relative;}#sk-container-id-3 div.sk-text-repr-fallback {display: none;}</style><div id=\"sk-container-id-3\" class=\"sk-top-container\"><div class=\"sk-text-repr-fallback\"><pre>DecisionTreeClassifier(criterion=&#x27;entropy&#x27;, random_state=42)</pre><b>In a Jupyter environment, please rerun this cell to show the HTML representation or trust the notebook. <br />On GitHub, the HTML representation is unable to render, please try loading this page with nbviewer.org.</b></div><div class=\"sk-container\" hidden><div class=\"sk-item\"><div class=\"sk-estimator sk-toggleable\"><input class=\"sk-toggleable__control sk-hidden--visually\" id=\"sk-estimator-id-3\" type=\"checkbox\" checked><label for=\"sk-estimator-id-3\" class=\"sk-toggleable__label sk-toggleable__label-arrow\">DecisionTreeClassifier</label><div class=\"sk-toggleable__content\"><pre>DecisionTreeClassifier(criterion=&#x27;entropy&#x27;, random_state=42)</pre></div></div></div></div></div>"
            ]
          },
          "metadata": {},
          "execution_count": 47
        }
      ]
    },
    {
      "cell_type": "code",
      "source": [
        "#verificar a importânica de cada atributo\n",
        "dtc.feature_importances_"
      ],
      "metadata": {
        "colab": {
          "base_uri": "https://localhost:8080/"
        },
        "id": "KD1t3CzOXf03",
        "outputId": "036e4b20-52bf-44af-ac39-c028a6ee3c24"
      },
      "execution_count": null,
      "outputs": [
        {
          "output_type": "execute_result",
          "data": {
            "text/plain": [
              "array([0.02100894, 0.01395648, 0.0068095 , 0.01986065, 0.01886452,\n",
              "       0.1627932 , 0.22212421, 0.00939177, 0.00344576, 0.01039829,\n",
              "       0.0019815 , 0.03128648, 0.00065123, 0.00849934, 0.        ,\n",
              "       0.01698366, 0.00622973, 0.        , 0.00964718, 0.01267467,\n",
              "       0.00027769, 0.00770208, 0.01299062, 0.00368329, 0.02047256,\n",
              "       0.00371587, 0.        , 0.00156955, 0.00671244, 0.0003825 ,\n",
              "       0.01126638, 0.03622159, 0.16358635, 0.07445054, 0.01758995,\n",
              "       0.02117825, 0.02183557, 0.01975766])"
            ]
          },
          "metadata": {},
          "execution_count": 48
        }
      ]
    },
    {
      "cell_type": "code",
      "source": [
        "predito_ArvoreDecisao = dtc.predict(X_teste)\n",
        "predito_ArvoreDecisao"
      ],
      "metadata": {
        "colab": {
          "base_uri": "https://localhost:8080/"
        },
        "id": "uxd9--91YFhG",
        "outputId": "f3931c18-bdda-434f-9a50-ea43c4d5de56"
      },
      "execution_count": null,
      "outputs": [
        {
          "output_type": "execute_result",
          "data": {
            "text/plain": [
              "array([0, 0, 0, ..., 1, 1, 1])"
            ]
          },
          "metadata": {},
          "execution_count": 50
        }
      ]
    },
    {
      "cell_type": "markdown",
      "source": [
        "#Validação"
      ],
      "metadata": {
        "id": "I2s76py-ad-c"
      }
    },
    {
      "cell_type": "markdown",
      "source": [
        "##Matriz de confusão"
      ],
      "metadata": {
        "id": "u9KsthSHagjy"
      }
    },
    {
      "cell_type": "code",
      "source": [
        "#biblioteca da matrix de confusão\n",
        "from sklearn.metrics import confusion_matrix"
      ],
      "metadata": {
        "id": "xtVM8b1GYMHd"
      },
      "execution_count": null,
      "outputs": []
    },
    {
      "cell_type": "code",
      "source": [
        "#modelo knn\n",
        "print(confusion_matrix(y_teste, predito_knn))"
      ],
      "metadata": {
        "colab": {
          "base_uri": "https://localhost:8080/"
        },
        "id": "Ssh5ce19apiG",
        "outputId": "1807d569-0f92-4672-c31b-cc9e9381d2b8"
      },
      "execution_count": null,
      "outputs": [
        {
          "output_type": "stream",
          "name": "stdout",
          "text": [
            "[[1242  327]\n",
            " [ 248 1288]]\n"
          ]
        }
      ]
    },
    {
      "cell_type": "code",
      "source": [
        "#modelo BNB\n",
        "print(confusion_matrix(y_teste, predito_Bnb))"
      ],
      "metadata": {
        "colab": {
          "base_uri": "https://localhost:8080/"
        },
        "id": "-ulgiClRa-W3",
        "outputId": "4d5acfb8-7d87-4f4a-d4c9-1e99a7387b98"
      },
      "execution_count": null,
      "outputs": [
        {
          "output_type": "stream",
          "name": "stdout",
          "text": [
            "[[1091  478]\n",
            " [ 241 1295]]\n"
          ]
        }
      ]
    },
    {
      "cell_type": "code",
      "source": [
        "#modelo decision tree\n",
        "print(confusion_matrix(y_teste, predito_ArvoreDecisao))"
      ],
      "metadata": {
        "colab": {
          "base_uri": "https://localhost:8080/"
        },
        "id": "yyvTQDEUdgll",
        "outputId": "cdb1e798-01fa-4434-cdc8-28963185d635"
      },
      "execution_count": null,
      "outputs": [
        {
          "output_type": "stream",
          "name": "stdout",
          "text": [
            "[[1250  319]\n",
            " [ 275 1261]]\n"
          ]
        }
      ]
    },
    {
      "cell_type": "markdown",
      "source": [
        "###Acuracia"
      ],
      "metadata": {
        "id": "CojH8NHdguwE"
      }
    },
    {
      "cell_type": "code",
      "source": [
        "from sklearn.metrics import accuracy_score"
      ],
      "metadata": {
        "id": "sRvAds45d4cz"
      },
      "execution_count": null,
      "outputs": []
    },
    {
      "cell_type": "code",
      "source": [
        "#modelo KNN\n",
        "print(accuracy_score(y_teste, predito_knn))"
      ],
      "metadata": {
        "colab": {
          "base_uri": "https://localhost:8080/"
        },
        "id": "zpKcuUZHhCZm",
        "outputId": "e9351829-ad31-4865-ca9b-284bd53e4c06"
      },
      "execution_count": null,
      "outputs": [
        {
          "output_type": "stream",
          "name": "stdout",
          "text": [
            "0.8148148148148148\n"
          ]
        }
      ]
    },
    {
      "cell_type": "code",
      "source": [
        "#modelo Bernoulli de naive bayes\n",
        "print(accuracy_score(y_teste, predito_Bnb))\n"
      ],
      "metadata": {
        "colab": {
          "base_uri": "https://localhost:8080/"
        },
        "id": "ou6epcrKhUr8",
        "outputId": "1f26e62d-cc58-4b62-89d8-e513467eac1a"
      },
      "execution_count": null,
      "outputs": [
        {
          "output_type": "stream",
          "name": "stdout",
          "text": [
            "0.768438003220612\n"
          ]
        }
      ]
    },
    {
      "cell_type": "code",
      "source": [
        "#modelo deciison tree\n",
        "print(accuracy_score(y_teste, predito_ArvoreDecisao))"
      ],
      "metadata": {
        "colab": {
          "base_uri": "https://localhost:8080/"
        },
        "id": "rd3kGUCghgWc",
        "outputId": "ce2350b2-c651-4446-a9cd-d9f78d7a6fc0"
      },
      "execution_count": null,
      "outputs": [
        {
          "output_type": "stream",
          "name": "stdout",
          "text": [
            "0.808695652173913\n"
          ]
        }
      ]
    },
    {
      "cell_type": "code",
      "source": [
        " "
      ],
      "metadata": {
        "id": "ngqv8-DYhnoF"
      },
      "execution_count": null,
      "outputs": []
    },
    {
      "cell_type": "markdown",
      "source": [
        "###Precisão"
      ],
      "metadata": {
        "id": "GR4GkfbEkCzz"
      }
    },
    {
      "cell_type": "code",
      "source": [
        "from sklearn.metrics import precision_score"
      ],
      "metadata": {
        "id": "7D5fFVrBkEwB"
      },
      "execution_count": null,
      "outputs": []
    },
    {
      "cell_type": "code",
      "source": [
        "#modelo KNN\n",
        "print(precision_score(y_teste, predito_knn))"
      ],
      "metadata": {
        "colab": {
          "base_uri": "https://localhost:8080/"
        },
        "id": "uLhU7pREkjd3",
        "outputId": "7306898c-556d-4e22-9180-bac7cb6909c2"
      },
      "execution_count": null,
      "outputs": [
        {
          "output_type": "stream",
          "name": "stdout",
          "text": [
            "0.7975232198142415\n"
          ]
        }
      ]
    },
    {
      "cell_type": "code",
      "source": [
        "#modelo Bernoulli de naives bayes\n",
        "print(precision_score(y_teste, predito_Bnb))"
      ],
      "metadata": {
        "colab": {
          "base_uri": "https://localhost:8080/"
        },
        "id": "nUCWlkCqkwWI",
        "outputId": "5888b978-a2d7-4725-a3df-b2cab7d79f6c"
      },
      "execution_count": null,
      "outputs": [
        {
          "output_type": "stream",
          "name": "stdout",
          "text": [
            "0.730400451212634\n"
          ]
        }
      ]
    },
    {
      "cell_type": "code",
      "source": [
        "#modelo Dcision Tree\n",
        "print(precision_score(y_teste, predito_ArvoreDecisao))"
      ],
      "metadata": {
        "colab": {
          "base_uri": "https://localhost:8080/"
        },
        "id": "orwRHd4Yk3Bf",
        "outputId": "cc79a827-d053-464c-994f-1f59b37d7901"
      },
      "execution_count": null,
      "outputs": [
        {
          "output_type": "stream",
          "name": "stdout",
          "text": [
            "0.7981012658227848\n"
          ]
        }
      ]
    },
    {
      "cell_type": "markdown",
      "source": [
        "###Recal"
      ],
      "metadata": {
        "id": "4iYxQR5rpHM8"
      }
    },
    {
      "cell_type": "code",
      "source": [
        "from sklearn.metrics import recall_score"
      ],
      "metadata": {
        "id": "xcC4v67ok7tX"
      },
      "execution_count": null,
      "outputs": []
    },
    {
      "cell_type": "code",
      "source": [
        "#modelo KNN\n",
        "print(recall_score(y_teste, predito_knn))"
      ],
      "metadata": {
        "colab": {
          "base_uri": "https://localhost:8080/"
        },
        "id": "VtY7MXgJpPye",
        "outputId": "1b5bbf8b-ad12-45a3-87de-b757d97a2011"
      },
      "execution_count": null,
      "outputs": [
        {
          "output_type": "stream",
          "name": "stdout",
          "text": [
            "0.8385416666666666\n"
          ]
        }
      ]
    },
    {
      "cell_type": "code",
      "source": [
        "#modelo Bernoulli de naive bayes\n",
        "print(recall_score(y_teste, predito_Bnb))"
      ],
      "metadata": {
        "colab": {
          "base_uri": "https://localhost:8080/"
        },
        "id": "EqQGFc98pagX",
        "outputId": "e254fb6c-5d84-496e-d871-f70661002f23"
      },
      "execution_count": null,
      "outputs": [
        {
          "output_type": "stream",
          "name": "stdout",
          "text": [
            "0.8430989583333334\n"
          ]
        }
      ]
    },
    {
      "cell_type": "code",
      "source": [
        "#modelo Decision Tree\n",
        "print(recall_score(y_teste, predito_ArvoreDecisao))"
      ],
      "metadata": {
        "colab": {
          "base_uri": "https://localhost:8080/"
        },
        "id": "qR9Bgv-Mphmu",
        "outputId": "c907be36-219a-4a08-cb62-f8ac39bb3745"
      },
      "execution_count": null,
      "outputs": [
        {
          "output_type": "stream",
          "name": "stdout",
          "text": [
            "0.8209635416666666\n"
          ]
        }
      ]
    },
    {
      "cell_type": "markdown",
      "source": [
        "#Escolhendo o modelo"
      ],
      "metadata": {
        "id": "o4FnQg42w-8i"
      }
    },
    {
      "cell_type": "code",
      "source": [
        "#modelo Dcision Tree\n",
        "print(f\"Modelo decision tree: {precision_score(y_teste, predito_ArvoreDecisao)*100:.2f}%\")\n",
        "#modelo Bernoulli de naives bayes\n",
        "print(f\"Modelo Bernoulli de Naives Bayes: {precision_score(y_teste, predito_Bnb)*100:.2f}%\")\n",
        "#modelo KNN\n",
        "print(f\"Modelo KNN: {precision_score(y_teste, predito_knn)*100:.2f}%\")\n"
      ],
      "metadata": {
        "colab": {
          "base_uri": "https://localhost:8080/"
        },
        "id": "eP7iSQeFpnF3",
        "outputId": "a2bfeb0b-3723-4b30-9537-40754820b625"
      },
      "execution_count": null,
      "outputs": [
        {
          "output_type": "stream",
          "name": "stdout",
          "text": [
            "Modelo decision tree: 79.81%\n",
            "Modelo Bernoulli de Naives Bayes: 73.04%\n",
            "Modelo KNN: 79.75%\n"
          ]
        }
      ]
    },
    {
      "cell_type": "code",
      "source": [],
      "metadata": {
        "id": "EIY4SfYBxw8y"
      },
      "execution_count": null,
      "outputs": []
    }
  ]
}